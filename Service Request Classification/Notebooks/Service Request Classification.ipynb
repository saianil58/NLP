{
 "cells": [
  {
   "cell_type": "markdown",
   "metadata": {
    "colab_type": "text",
    "id": "NANg_2A3Nuym"
   },
   "source": [
    "### 1. Download Tickets Data"
   ]
  },
  {
   "cell_type": "raw",
   "metadata": {
    "colab": {},
    "colab_type": "code",
    "id": "cMIlp7DENy39"
   },
   "source": [
    "#Download file using wget\n",
    "https://privdatastorage.blob.core.windows.net/github/support-tickets-classification/datasets/all_tickets.csv --quiet"
   ]
  },
  {
   "cell_type": "markdown",
   "metadata": {
    "colab_type": "text",
    "id": "rKqe-5Lpwj7E"
   },
   "source": [
    "### 2. Tickets Data Exploration"
   ]
  },
  {
   "cell_type": "markdown",
   "metadata": {
    "colab_type": "text",
    "id": "SgZQ20psaJJX"
   },
   "source": [
    "Load tickets data as dataframe"
   ]
  },
  {
   "cell_type": "code",
   "execution_count": 1,
   "metadata": {
    "colab": {},
    "colab_type": "code",
    "id": "o84tU4KBruJK"
   },
   "outputs": [],
   "source": [
    "import pandas as pd\n",
    "import numpy as np\n",
    "import textwrap"
   ]
  },
  {
   "cell_type": "code",
   "execution_count": 2,
   "metadata": {
    "colab": {},
    "colab_type": "code",
    "id": "WcQh6U1-aeOh"
   },
   "outputs": [],
   "source": [
    "# read file into pandas using a relative path. Please change the path as needed\n",
    "tix_df = pd.read_table('all_tickets.csv', sep=',')"
   ]
  },
  {
   "cell_type": "code",
   "execution_count": 3,
   "metadata": {
    "colab": {},
    "colab_type": "code",
    "id": "ZOgLs2FvbRx-"
   },
   "outputs": [
    {
     "data": {
      "text/plain": [
       "(48549, 9)"
      ]
     },
     "execution_count": 3,
     "metadata": {},
     "output_type": "execute_result"
    }
   ],
   "source": [
    "#Total number of tickets\n",
    "tix_df.shape"
   ]
  },
  {
   "cell_type": "code",
   "execution_count": 4,
   "metadata": {
    "colab": {},
    "colab_type": "code",
    "id": "lj3tMfmIUZ53"
   },
   "outputs": [
    {
     "data": {
      "text/plain": [
       "Index(['title', 'body', 'ticket_type', 'category', 'sub_category1',\n",
       "       'sub_category2', 'business_service', 'urgency', 'impact'],\n",
       "      dtype='object')"
      ]
     },
     "execution_count": 4,
     "metadata": {},
     "output_type": "execute_result"
    }
   ],
   "source": [
    "#Columns in the dataframe\n",
    "tix_df.columns"
   ]
  },
  {
   "cell_type": "code",
   "execution_count": 5,
   "metadata": {
    "colab": {},
    "colab_type": "code",
    "id": "qDN-bzy9aBAz"
   },
   "outputs": [
    {
     "data": {
      "text/html": [
       "<div>\n",
       "<style scoped>\n",
       "    .dataframe tbody tr th:only-of-type {\n",
       "        vertical-align: middle;\n",
       "    }\n",
       "\n",
       "    .dataframe tbody tr th {\n",
       "        vertical-align: top;\n",
       "    }\n",
       "\n",
       "    .dataframe thead th {\n",
       "        text-align: right;\n",
       "    }\n",
       "</style>\n",
       "<table border=\"1\" class=\"dataframe\">\n",
       "  <thead>\n",
       "    <tr style=\"text-align: right;\">\n",
       "      <th></th>\n",
       "      <th>title</th>\n",
       "      <th>body</th>\n",
       "      <th>ticket_type</th>\n",
       "      <th>category</th>\n",
       "      <th>sub_category1</th>\n",
       "      <th>sub_category2</th>\n",
       "      <th>business_service</th>\n",
       "      <th>urgency</th>\n",
       "      <th>impact</th>\n",
       "    </tr>\n",
       "  </thead>\n",
       "  <tbody>\n",
       "    <tr>\n",
       "      <td>2103</td>\n",
       "      <td>new purchase po</td>\n",
       "      <td>purchase po dear purchased type hub please log...</td>\n",
       "      <td>1</td>\n",
       "      <td>5</td>\n",
       "      <td>13</td>\n",
       "      <td>7</td>\n",
       "      <td>32</td>\n",
       "      <td>3</td>\n",
       "      <td>4</td>\n",
       "    </tr>\n",
       "    <tr>\n",
       "      <td>44441</td>\n",
       "      <td>approval list not working</td>\n",
       "      <td>sent wednesday march approval list working hi ...</td>\n",
       "      <td>0</td>\n",
       "      <td>4</td>\n",
       "      <td>9</td>\n",
       "      <td>23</td>\n",
       "      <td>10</td>\n",
       "      <td>1</td>\n",
       "      <td>3</td>\n",
       "    </tr>\n",
       "    <tr>\n",
       "      <td>3737</td>\n",
       "      <td>update for florin technology employee</td>\n",
       "      <td>update hi please best regards analyst november...</td>\n",
       "      <td>1</td>\n",
       "      <td>4</td>\n",
       "      <td>2</td>\n",
       "      <td>21</td>\n",
       "      <td>67</td>\n",
       "      <td>3</td>\n",
       "      <td>4</td>\n",
       "    </tr>\n",
       "    <tr>\n",
       "      <td>5390</td>\n",
       "      <td>submission</td>\n",
       "      <td>problems submission hello had two leave days o...</td>\n",
       "      <td>1</td>\n",
       "      <td>4</td>\n",
       "      <td>2</td>\n",
       "      <td>105</td>\n",
       "      <td>66</td>\n",
       "      <td>3</td>\n",
       "      <td>4</td>\n",
       "    </tr>\n",
       "    <tr>\n",
       "      <td>24558</td>\n",
       "      <td>po</td>\n",
       "      <td>tuesday december po morning adaptor male femal...</td>\n",
       "      <td>1</td>\n",
       "      <td>5</td>\n",
       "      <td>13</td>\n",
       "      <td>7</td>\n",
       "      <td>32</td>\n",
       "      <td>3</td>\n",
       "      <td>4</td>\n",
       "    </tr>\n",
       "  </tbody>\n",
       "</table>\n",
       "</div>"
      ],
      "text/plain": [
       "                                       title  \\\n",
       "2103                         new purchase po   \n",
       "44441              approval list not working   \n",
       "3737   update for florin technology employee   \n",
       "5390                              submission   \n",
       "24558                                     po   \n",
       "\n",
       "                                                    body  ticket_type  \\\n",
       "2103   purchase po dear purchased type hub please log...            1   \n",
       "44441  sent wednesday march approval list working hi ...            0   \n",
       "3737   update hi please best regards analyst november...            1   \n",
       "5390   problems submission hello had two leave days o...            1   \n",
       "24558  tuesday december po morning adaptor male femal...            1   \n",
       "\n",
       "       category  sub_category1  sub_category2  business_service  urgency  \\\n",
       "2103          5             13              7                32        3   \n",
       "44441         4              9             23                10        1   \n",
       "3737          4              2             21                67        3   \n",
       "5390          4              2            105                66        3   \n",
       "24558         5             13              7                32        3   \n",
       "\n",
       "       impact  \n",
       "2103        4  \n",
       "44441       3  \n",
       "3737        4  \n",
       "5390        4  \n",
       "24558       4  "
      ]
     },
     "execution_count": 5,
     "metadata": {},
     "output_type": "execute_result"
    }
   ],
   "source": [
    "#Check the contents of dataframe\n",
    "tix_df.sample(n=5)"
   ]
  },
  {
   "cell_type": "markdown",
   "metadata": {
    "colab_type": "text",
    "id": "49BSN1PpXwxr"
   },
   "source": [
    "Checking ticket content"
   ]
  },
  {
   "cell_type": "code",
   "execution_count": 6,
   "metadata": {
    "colab": {},
    "colab_type": "code",
    "id": "TEHDkdy3Vnm9"
   },
   "outputs": [],
   "source": [
    "my_wrap = textwrap.TextWrapper()"
   ]
  },
  {
   "cell_type": "code",
   "execution_count": 7,
   "metadata": {
    "colab": {},
    "colab_type": "code",
    "id": "9gSs3YhCUrHw"
   },
   "outputs": [
    {
     "name": "stdout",
     "output_type": "stream",
     "text": [
      "Title: \n",
      "access to confluence\n",
      "Body: \n",
      "october confluence hello please confluence section thanks application\n",
      "senior engineer registered under number whose registered old broad\n",
      "street kingdom provide clients each subsidiaries separate entity has\n"
     ]
    }
   ],
   "source": [
    "tix_num = np.random.randint(0, tix_df.shape[0])\n",
    "print('Title: ')\n",
    "print(tix_df.loc[tix_num, 'title'])\n",
    "print('Body: ')\n",
    "for line in my_wrap.wrap(tix_df.loc[tix_num, 'body']):\n",
    "    print(line)"
   ]
  },
  {
   "cell_type": "code",
   "execution_count": 8,
   "metadata": {
    "colab": {},
    "colab_type": "code",
    "id": "A705u9O1uor6"
   },
   "outputs": [
    {
     "data": {
      "text/plain": [
       "title               712\n",
       "body                  0\n",
       "ticket_type           0\n",
       "category              0\n",
       "sub_category1         0\n",
       "sub_category2         0\n",
       "business_service      0\n",
       "urgency               0\n",
       "impact                0\n",
       "dtype: int64"
      ]
     },
     "execution_count": 8,
     "metadata": {},
     "output_type": "execute_result"
    }
   ],
   "source": [
    "#Checkout missing values\n",
    "tix_df.isnull().sum()"
   ]
  },
  {
   "cell_type": "markdown",
   "metadata": {
    "colab_type": "text",
    "id": "qiX9g0laWzfJ"
   },
   "source": [
    "Visualization"
   ]
  },
  {
   "cell_type": "code",
   "execution_count": 9,
   "metadata": {
    "colab": {},
    "colab_type": "code",
    "id": "swGpnyZQW7K8"
   },
   "outputs": [
    {
     "data": {
      "text/plain": [
       "<matplotlib.axes._subplots.AxesSubplot at 0x1e73460abc8>"
      ]
     },
     "execution_count": 9,
     "metadata": {},
     "output_type": "execute_result"
    }
   ],
   "source": [
    "#Ticket type\n",
    "tix_df['ticket_type'].value_counts().plot(kind='barh')"
   ]
  },
  {
   "cell_type": "code",
   "execution_count": 10,
   "metadata": {
    "colab": {},
    "colab_type": "code",
    "id": "VUelsY2IZjvN"
   },
   "outputs": [
    {
     "data": {
      "text/plain": [
       "<matplotlib.axes._subplots.AxesSubplot at 0x1e734b8e9c8>"
      ]
     },
     "execution_count": 10,
     "metadata": {},
     "output_type": "execute_result"
    },
    {
     "data": {
      "image/png": "[encoded data removed]",
      "text/plain": [
       "<Figure size 432x288 with 1 Axes>"
      ]
     },
     "metadata": {
      "needs_background": "light"
     },
     "output_type": "display_data"
    }
   ],
   "source": [
    "#Category\n",
    "tix_df['category'].value_counts().plot(kind='barh')"
   ]
  },
  {
   "cell_type": "code",
   "execution_count": 11,
   "metadata": {
    "colab": {},
    "colab_type": "code",
    "id": "kTeH9HCpZ4It"
   },
   "outputs": [
    {
     "data": {
      "text/plain": [
       "<matplotlib.axes._subplots.AxesSubplot at 0x1e734c34d48>"
      ]
     },
     "execution_count": 11,
     "metadata": {},
     "output_type": "execute_result"
    },
    {
     "data": {
      "image/png": "[encoded data removed]",
      "text/plain": [
       "<Figure size 432x288 with 1 Axes>"
      ]
     },
     "metadata": {
      "needs_background": "light"
     },
     "output_type": "display_data"
    }
   ],
   "source": [
    "#Impact\n",
    "tix_df['impact'].value_counts().plot(kind='barh')"
   ]
  },
  {
   "cell_type": "code",
   "execution_count": 12,
   "metadata": {
    "colab": {},
    "colab_type": "code",
    "id": "d-IDArjWaBb0"
   },
   "outputs": [
    {
     "data": {
      "text/plain": [
       "<matplotlib.axes._subplots.AxesSubplot at 0x1e734cc0088>"
      ]
     },
     "execution_count": 12,
     "metadata": {},
     "output_type": "execute_result"
    },
    {
     "data": {
      "image/png": "[encoded data removed]",
      "text/plain": [
       "<Figure size 432x288 with 1 Axes>"
      ]
     },
     "metadata": {
      "needs_background": "light"
     },
     "output_type": "display_data"
    }
   ],
   "source": [
    "#Urgency\n",
    "tix_df['urgency'].value_counts().plot(kind='barh')"
   ]
  },
  {
   "cell_type": "code",
   "execution_count": 13,
   "metadata": {
    "colab": {},
    "colab_type": "code",
    "id": "88TEC8a1cGIa"
   },
   "outputs": [
    {
     "data": {
      "text/plain": [
       "<matplotlib.axes._subplots.AxesSubplot at 0x1e734d2fcc8>"
      ]
     },
     "execution_count": 13,
     "metadata": {},
     "output_type": "execute_result"
    },
    {
     "data": {
      "image/png": "[encoded data removed]",
      "text/plain": [
       "<Figure size 1440x1080 with 1 Axes>"
      ]
     },
     "metadata": {
      "needs_background": "light"
     },
     "output_type": "display_data"
    }
   ],
   "source": [
    "#Sub-category 1\n",
    "tix_df['sub_category1'].value_counts().plot(kind='barh', figsize=(20,15))"
   ]
  },
  {
   "cell_type": "code",
   "execution_count": 14,
   "metadata": {
    "colab": {},
    "colab_type": "code",
    "id": "aQu4Yky2boCX"
   },
   "outputs": [
    {
     "data": {
      "text/plain": [
       "<matplotlib.axes._subplots.AxesSubplot at 0x1e735a4e048>"
      ]
     },
     "execution_count": 14,
     "metadata": {},
     "output_type": "execute_result"
    },
    {
     "data": {
      "image/png": "[encoded data removed]",
      "text/plain": [
       "<Figure size 432x288 with 1 Axes>"
      ]
     },
     "metadata": {
      "needs_background": "light"
     },
     "output_type": "display_data"
    }
   ],
   "source": [
    "#Sub-category 1 for specific category\n",
    "tix_df[tix_df['category'].isin(['4'])]['sub_category1'].value_counts().plot(kind='barh')"
   ]
  },
  {
   "cell_type": "markdown",
   "metadata": {
    "colab_type": "text",
    "id": "c2h-db6Zw00i"
   },
   "source": [
    "### 3. Create Training & Test Dataset"
   ]
  },
  {
   "cell_type": "code",
   "execution_count": 15,
   "metadata": {
    "colab": {},
    "colab_type": "code",
    "id": "v-wdhCspw4lE"
   },
   "outputs": [],
   "source": [
    "from sklearn.model_selection import train_test_split"
   ]
  },
  {
   "cell_type": "code",
   "execution_count": 16,
   "metadata": {
    "colab": {},
    "colab_type": "code",
    "id": "CdSvRSDqf183"
   },
   "outputs": [],
   "source": [
    "#Build a new Columns which combines 'title' and 'body'\n",
    "tix_df['title_body'] = tix_df['title'].astype('str') + tix_df['body']\n",
    "\n",
    "#Column to predict\n",
    "column_to_predict = 'ticket_type'"
   ]
  },
  {
   "cell_type": "code",
   "execution_count": 17,
   "metadata": {
    "colab": {},
    "colab_type": "code",
    "id": "4mY8_xP6w9DW"
   },
   "outputs": [],
   "source": [
    "# split X and y into training and testing sets\n",
    "trainX, testX, trainY, testY = train_test_split(tix_df['title_body'], tix_df[column_to_predict], random_state=2)"
   ]
  },
  {
   "cell_type": "code",
   "execution_count": 18,
   "metadata": {
    "colab": {},
    "colab_type": "code",
    "id": "axydR7nwxd5c"
   },
   "outputs": [
    {
     "name": "stdout",
     "output_type": "stream",
     "text": [
      "(36411,)\n",
      "(36411,)\n"
     ]
    }
   ],
   "source": [
    "#Traing data\n",
    "print(trainX.shape)\n",
    "print(trainY.shape)"
   ]
  },
  {
   "cell_type": "code",
   "execution_count": 19,
   "metadata": {
    "colab": {},
    "colab_type": "code",
    "id": "cMpz2JpNxjT1"
   },
   "outputs": [
    {
     "name": "stdout",
     "output_type": "stream",
     "text": [
      "(12138,)\n",
      "(12138,)\n"
     ]
    }
   ],
   "source": [
    "#Test Data\n",
    "print(testX.shape)\n",
    "print(testY.shape)"
   ]
  },
  {
   "cell_type": "markdown",
   "metadata": {
    "colab_type": "text",
    "id": "pERZB-yYcMnQ"
   },
   "source": [
    "### 4. Tokenization & Vectorization"
   ]
  },
  {
   "cell_type": "markdown",
   "metadata": {
    "colab_type": "text",
    "id": "HG5KU5JVwj7k"
   },
   "source": [
    "Using **CountVectorizer**, to get numeric features."
   ]
  },
  {
   "cell_type": "code",
   "execution_count": 20,
   "metadata": {
    "colab": {},
    "colab_type": "code",
    "id": "o-EAh3Lict_N"
   },
   "outputs": [],
   "source": [
    "# import and instantiate CountVectorizer (with the default parameters)\n",
    "from sklearn.feature_extraction.text import CountVectorizer\n",
    "cvect = CountVectorizer()"
   ]
  },
  {
   "cell_type": "code",
   "execution_count": 21,
   "metadata": {
    "colab": {},
    "colab_type": "code",
    "id": "wOIKxD1pdEg3"
   },
   "outputs": [
    {
     "data": {
      "text/plain": [
       "24694"
      ]
     },
     "execution_count": 21,
     "metadata": {},
     "output_type": "execute_result"
    }
   ],
   "source": [
    "#Feed SMS data to CountVectorizer\n",
    "cvect.fit(trainX)\n",
    "\n",
    "#Check the vocablury size\n",
    "len(cvect.vocabulary_)"
   ]
  },
  {
   "cell_type": "code",
   "execution_count": 22,
   "metadata": {
    "colab": {},
    "colab_type": "code",
    "id": "H4t9gegJd74n"
   },
   "outputs": [
    {
     "data": {
      "text/plain": [
       "['aaction',\n",
       " 'ab',\n",
       " 'abandon',\n",
       " 'abandoned',\n",
       " 'abbott',\n",
       " 'abc',\n",
       " 'abeam',\n",
       " 'abilities',\n",
       " 'ability',\n",
       " 'able',\n",
       " 'abnormal',\n",
       " 'abnormally',\n",
       " 'abo',\n",
       " 'aboard',\n",
       " 'abort',\n",
       " 'aborted',\n",
       " 'aborting',\n",
       " 'about',\n",
       " 'aboutabout',\n",
       " 'aboutjuly',\n",
       " 'aboutquestion',\n",
       " 'aboutthursday',\n",
       " 'abouttuesday',\n",
       " 'above',\n",
       " 'abroad',\n",
       " 'abroken',\n",
       " 'abs',\n",
       " 'absence',\n",
       " 'absencejuly',\n",
       " 'absencepm',\n",
       " 'absences',\n",
       " 'absencesent',\n",
       " 'absencesod',\n",
       " 'absencessent',\n",
       " 'absencesthursday',\n",
       " 'absenceswithdrawn',\n",
       " 'absencetuesday',\n",
       " 'absent',\n",
       " 'absolute',\n",
       " 'absolutely',\n",
       " 'absorption',\n",
       " 'abstract',\n",
       " 'absurd',\n",
       " 'absurdly',\n",
       " 'abuse',\n",
       " 'abused',\n",
       " 'ac',\n",
       " 'academic',\n",
       " 'academy',\n",
       " 'academyfebruary',\n",
       " 'academythursday',\n",
       " 'academywednesday',\n",
       " 'acan',\n",
       " 'accelerate',\n",
       " 'accelerated',\n",
       " 'accelerates',\n",
       " 'acceleration',\n",
       " 'accelerator',\n",
       " 'accelerometer',\n",
       " 'accept',\n",
       " 'acceptable',\n",
       " 'acceptance',\n",
       " 'acceptances',\n",
       " 'accepted',\n",
       " 'accepting',\n",
       " 'accepts',\n",
       " 'access',\n",
       " 'accessability',\n",
       " 'accessable',\n",
       " 'accessaccess',\n",
       " 'accessad',\n",
       " 'accessadministrators',\n",
       " 'accessadvised',\n",
       " 'accessafter',\n",
       " 'accessapp',\n",
       " 'accessarea',\n",
       " 'accessask',\n",
       " 'accessbb',\n",
       " 'accessbib',\n",
       " 'accessca',\n",
       " 'accesscalendar',\n",
       " 'accesscalled',\n",
       " 'accesscan',\n",
       " 'accesscannot',\n",
       " 'accesscard',\n",
       " 'accesschanged',\n",
       " 'accessclient',\n",
       " 'accessconf',\n",
       " 'accessconfluence',\n",
       " 'accessconnect',\n",
       " 'accessconnected',\n",
       " 'accesscontacted',\n",
       " 'accesscreate',\n",
       " 'accessdatabase',\n",
       " 'accessdear',\n",
       " 'accessdecember',\n",
       " 'accessdefault',\n",
       " 'accessdisable',\n",
       " 'accessdocument',\n",
       " 'accessdrive',\n",
       " 'accessecosystem',\n",
       " 'accessed',\n",
       " 'accessedcube',\n",
       " 'accessedsent',\n",
       " 'accesseel',\n",
       " 'accessemploy',\n",
       " 'accessenquired',\n",
       " 'accesserror',\n",
       " 'accesses',\n",
       " 'accessesthursday',\n",
       " 'accessestuesday',\n",
       " 'accesseswednesday',\n",
       " 'accessexplorer',\n",
       " 'accessfebruary',\n",
       " 'accessfloor',\n",
       " 'accessfolder',\n",
       " 'accessfriday',\n",
       " 'accessfront',\n",
       " 'accessgit',\n",
       " 'accessgood',\n",
       " 'accessgreat',\n",
       " 'accesshave',\n",
       " 'accesshello',\n",
       " 'accesshi',\n",
       " 'accessibility',\n",
       " 'accessibilityuser',\n",
       " 'accessible',\n",
       " 'accessibleaccessible',\n",
       " 'accessibleafter',\n",
       " 'accessiblecannot',\n",
       " 'accessiblecolleague',\n",
       " 'accessiblehow',\n",
       " 'accessiblelogging',\n",
       " 'accessiblesent',\n",
       " 'accessibleserver',\n",
       " 'accessibleshould',\n",
       " 'accessibletuesday',\n",
       " 'accessiblewednesday',\n",
       " 'accessinflight',\n",
       " 'accessing',\n",
       " 'accessinghello',\n",
       " 'accessingissue',\n",
       " 'accessingproblem',\n",
       " 'accessingproblems',\n",
       " 'accessingsent',\n",
       " 'accessinput',\n",
       " 'accession',\n",
       " 'accessissue',\n",
       " 'accessjuly',\n",
       " 'accesskickoff',\n",
       " 'accesskind',\n",
       " 'accesslink',\n",
       " 'accesslogged',\n",
       " 'accessmailbox',\n",
       " 'accessmarch',\n",
       " 'accessmerge',\n",
       " 'accessmobile',\n",
       " 'accessmodify',\n",
       " 'accessne',\n",
       " 'accessneed',\n",
       " 'accessnovember',\n",
       " 'accessoctober',\n",
       " 'accessone',\n",
       " 'accessories',\n",
       " 'accessoriesdear',\n",
       " 'accessory',\n",
       " 'accessorymonitor',\n",
       " 'accesspass',\n",
       " 'accessper',\n",
       " 'accessplease',\n",
       " 'accesspm',\n",
       " 'accessprinter',\n",
       " 'accessproblem',\n",
       " 'accessprod',\n",
       " 'accessre',\n",
       " 'accessreceivable',\n",
       " 'accessremote',\n",
       " 'accessreport',\n",
       " 'accessreports',\n",
       " 'accessrequested',\n",
       " 'accessrequests',\n",
       " 'accessrequired',\n",
       " 'accessretain',\n",
       " 'accessrights',\n",
       " 'accessrole',\n",
       " 'accessroom',\n",
       " 'accesssa',\n",
       " 'accesssaturday',\n",
       " 'accesssent',\n",
       " 'accessservers',\n",
       " 'accessshare',\n",
       " 'accessshared',\n",
       " 'accesssi',\n",
       " 'accesssonar',\n",
       " 'accessstarter',\n",
       " 'accessstorage',\n",
       " 'accesstesting',\n",
       " 'accessthanks',\n",
       " 'accessthursday',\n",
       " 'accesstransfer',\n",
       " 'accesstuesday',\n",
       " 'accessunable',\n",
       " 'accessupdate',\n",
       " 'accessurgent',\n",
       " 'accessuser',\n",
       " 'accessusers',\n",
       " 'accessva',\n",
       " 'accesswants',\n",
       " 'accesswednesday',\n",
       " 'accesswhen',\n",
       " 'accessyesterday',\n",
       " 'accident',\n",
       " 'accidental',\n",
       " 'accidentally',\n",
       " 'acclaimed',\n",
       " 'accommodate',\n",
       " 'accommodated',\n",
       " 'accommodation',\n",
       " 'accompanying',\n",
       " 'accomplish',\n",
       " 'accomplished',\n",
       " 'accomplishment',\n",
       " 'accord',\n",
       " 'accordance',\n",
       " 'according',\n",
       " 'accordingly',\n",
       " 'accordinglysent',\n",
       " 'accordinglytuesday',\n",
       " 'accordinglywednesday',\n",
       " 'account',\n",
       " 'accountable',\n",
       " 'accountad',\n",
       " 'accountadd',\n",
       " 'accountadministrator',\n",
       " 'accountadministrators',\n",
       " 'accountanalyst',\n",
       " 'accountancy',\n",
       " 'accountant',\n",
       " 'accountants',\n",
       " 'accountbackups',\n",
       " 'accountblocked',\n",
       " 'accountcalendar',\n",
       " 'accountcalled',\n",
       " 'accountcannot',\n",
       " 'accountcant',\n",
       " 'accountcertificates',\n",
       " 'accountconfiguration',\n",
       " 'accountconfluence',\n",
       " 'accountconnection',\n",
       " 'accountconstraints',\n",
       " 'accountcontacted',\n",
       " 'accountcontribute',\n",
       " 'accountcreate',\n",
       " 'accountcreation',\n",
       " 'accountdear',\n",
       " 'accountdecember',\n",
       " 'accountdeveloper',\n",
       " 'accountdisabled',\n",
       " 'accountdisk',\n",
       " 'accounted',\n",
       " 'accounterror',\n",
       " 'accountexpire',\n",
       " 'accountexpired',\n",
       " 'accountface',\n",
       " 'accountfebruary',\n",
       " 'accountfor',\n",
       " 'accountfriday',\n",
       " 'accountgood',\n",
       " 'accounthas',\n",
       " 'accounthello',\n",
       " 'accounthey',\n",
       " 'accounthi',\n",
       " 'accounthow',\n",
       " 'accountimportance',\n",
       " 'accounting',\n",
       " 'accountingpermissions',\n",
       " 'accountingsent',\n",
       " 'accountingsi',\n",
       " 'accountingtuesday',\n",
       " 'accountingwednesday',\n",
       " 'accountissues',\n",
       " 'accountjuly',\n",
       " 'accountlaptop',\n",
       " 'accountleaver',\n",
       " 'accountlocked',\n",
       " 'accountmarch',\n",
       " 'accountmembers',\n",
       " 'accountneed',\n",
       " 'accountnovember',\n",
       " 'accountoctober',\n",
       " 'accountpart',\n",
       " 'accountper',\n",
       " 'accountpersonal',\n",
       " 'accountphone',\n",
       " 'accountplease',\n",
       " 'accountplural',\n",
       " 'accountpm',\n",
       " 'accountpretty',\n",
       " 'accountproblem',\n",
       " 'accountproblems',\n",
       " 'accountre',\n",
       " 'accountreminder',\n",
       " 'accountremoval',\n",
       " 'accountrequested',\n",
       " 'accountrequests',\n",
       " 'accountrequires',\n",
       " 'accountreview',\n",
       " 'accounts',\n",
       " 'accountsa',\n",
       " 'accountsaccess',\n",
       " 'accountsaccounts',\n",
       " 'accountsad',\n",
       " 'accountscalled',\n",
       " 'accountscreate',\n",
       " 'accountsdecember',\n",
       " 'accountsdrive',\n",
       " 'accountsent',\n",
       " 'accountsetting',\n",
       " 'accountsfebruary',\n",
       " 'accountsfriday',\n",
       " 'accountsgot',\n",
       " 'accountshello',\n",
       " 'accountsinterns',\n",
       " 'accountsissue',\n",
       " 'accountsjuly',\n",
       " 'accountsleavers',\n",
       " 'accountsmarch',\n",
       " 'accountsonar',\n",
       " 'accountspm',\n",
       " 'accountsre',\n",
       " 'accountsreactivating',\n",
       " 'accountsrelated',\n",
       " 'accountssent',\n",
       " 'accountsstarter',\n",
       " 'accountsthursday',\n",
       " 'accountstuesday',\n",
       " 'accountsupdate',\n",
       " 'accountswednesday',\n",
       " 'accountthursday',\n",
       " 'accounttuesday',\n",
       " 'accountunable',\n",
       " 'accountunblock',\n",
       " 'accountunlock',\n",
       " 'accountunmapped',\n",
       " 'accountupdate',\n",
       " 'accountuser',\n",
       " 'accountwe',\n",
       " 'accountwednesday',\n",
       " 'accountwork',\n",
       " 'accredited',\n",
       " 'accrual',\n",
       " 'accruals',\n",
       " 'accrue',\n",
       " 'accrued',\n",
       " 'accrues',\n",
       " 'accumulated',\n",
       " 'accumulations',\n",
       " 'accumulator',\n",
       " 'accuracy',\n",
       " 'accurate',\n",
       " 'accurately',\n",
       " 'accuratelysent',\n",
       " 'accustomed',\n",
       " 'ace',\n",
       " 'aced',\n",
       " 'aces',\n",
       " 'achange',\n",
       " 'ache',\n",
       " 'achievable',\n",
       " 'achieve',\n",
       " 'achieved',\n",
       " 'achievement',\n",
       " 'achievements',\n",
       " 'achieving',\n",
       " 'acknowledged',\n",
       " 'acknowledgement',\n",
       " 'acknowledgements',\n",
       " 'acknowledges',\n",
       " 'acknowledging',\n",
       " 'acme',\n",
       " 'acomputer',\n",
       " 'acontribute',\n",
       " 'acquire',\n",
       " 'acquired',\n",
       " 'acquires',\n",
       " 'acquiring',\n",
       " 'acquisition',\n",
       " 'acquisitions',\n",
       " 'acquisitionsthursday',\n",
       " 'acr',\n",
       " 'acre',\n",
       " 'acreate',\n",
       " 'acrobat',\n",
       " 'acrobatacrobat',\n",
       " 'acronym',\n",
       " 'acronymoctober',\n",
       " 'acronyms',\n",
       " 'across',\n",
       " 'acrosssent',\n",
       " 'act',\n",
       " 'acted',\n",
       " 'actin',\n",
       " 'acting',\n",
       " 'action',\n",
       " 'actionable',\n",
       " 'actionclean',\n",
       " 'actionlaptop',\n",
       " 'actions',\n",
       " 'actionsnovember',\n",
       " 'actionsoctober',\n",
       " 'actionssent',\n",
       " 'actionstuesday',\n",
       " 'actionswednesday',\n",
       " 'activate',\n",
       " 'activateactivate',\n",
       " 'activated',\n",
       " 'activatedcannot',\n",
       " 'activatedcards',\n",
       " 'activatedfebruary',\n",
       " 'activatedgetting',\n",
       " 'activatedhello',\n",
       " 'activatedsent',\n",
       " 'activatedtuesday',\n",
       " 'activatefound',\n",
       " 'activatehelp',\n",
       " 'activates',\n",
       " 'activatesent',\n",
       " 'activating',\n",
       " 'activation',\n",
       " 'activationbadge',\n",
       " 'activationcard',\n",
       " 'activationjuly',\n",
       " 'activationnovember',\n",
       " 'activationplease',\n",
       " 'activationproduct',\n",
       " 'activationre',\n",
       " 'activationsent',\n",
       " 'activationthursday',\n",
       " 'activationwednesday',\n",
       " 'active',\n",
       " 'activeactive',\n",
       " 'activefriday',\n",
       " 'actively',\n",
       " 'activepm',\n",
       " 'activeport',\n",
       " 'activesent',\n",
       " 'activethursday',\n",
       " 'activetickets',\n",
       " 'activetuesday',\n",
       " 'activewednesday',\n",
       " 'activities',\n",
       " 'activitiesmarch',\n",
       " 'activitiesperiod',\n",
       " 'activitiesthursday',\n",
       " 'activitiestuesday',\n",
       " 'activitieswednesday',\n",
       " 'activity',\n",
       " 'activityre',\n",
       " 'acts',\n",
       " 'actual',\n",
       " 'actualize',\n",
       " 'actualized',\n",
       " 'ad',\n",
       " 'adadd',\n",
       " 'adadvised',\n",
       " 'adafter',\n",
       " 'adamend',\n",
       " 'adapt',\n",
       " 'adaptability',\n",
       " 'adaptable',\n",
       " 'adaptation',\n",
       " 'adapted',\n",
       " 'adapter',\n",
       " 'adapteradapter',\n",
       " 'adaptercables',\n",
       " 'adapterfriday',\n",
       " 'adaptermarch',\n",
       " 'adaptermonitor',\n",
       " 'adapterplug',\n",
       " 'adapterpm',\n",
       " 'adapterre',\n",
       " 'adapters',\n",
       " 'adaptersadapters',\n",
       " 'adaptersfriday',\n",
       " 'adaptersocket',\n",
       " 'adapterspare',\n",
       " 'adapterswednesday',\n",
       " 'adapterthursday',\n",
       " 'adaptertuesday',\n",
       " 'adapterwednesday',\n",
       " 'adapting',\n",
       " 'adaptive',\n",
       " 'adaptor',\n",
       " 'adaptoradaptor',\n",
       " 'adaptorfriday',\n",
       " 'adaptorjuly',\n",
       " 'adaptornovember',\n",
       " 'adaptorplug',\n",
       " 'adaptorpm',\n",
       " 'adaptorre',\n",
       " 'adaptorrug',\n",
       " 'adaptors',\n",
       " 'adaptorsocket',\n",
       " 'adaptorswednesday',\n",
       " 'adaptortuesday',\n",
       " 'adaptorwednesday',\n",
       " 'adcannot',\n",
       " 'adchecked',\n",
       " 'adcolleague',\n",
       " 'adcomputer',\n",
       " 'adcreate',\n",
       " 'add',\n",
       " 'addadd',\n",
       " 'addbid',\n",
       " 'adddear',\n",
       " 'addear',\n",
       " 'addecember',\n",
       " 'added',\n",
       " 'addedfebruary',\n",
       " 'addedfriday',\n",
       " 'addedhi',\n",
       " 'addedoctober',\n",
       " 'addedpm',\n",
       " 'addedre',\n",
       " 'addedrecords',\n",
       " 'addedreport',\n",
       " 'addedthursday',\n",
       " 'addedtuesday',\n",
       " 'addedwednesday',\n",
       " 'addendum',\n",
       " 'addengagers',\n",
       " 'adder',\n",
       " 'addfriday',\n",
       " 'adding',\n",
       " 'addingdear',\n",
       " 'addinghello',\n",
       " 'addingre',\n",
       " 'addingsent',\n",
       " 'addingthursday',\n",
       " 'addingtuesday',\n",
       " 'addison',\n",
       " 'addition',\n",
       " 'additional',\n",
       " 'additionally',\n",
       " 'additions',\n",
       " 'additionsadditions',\n",
       " 'additionsfriday',\n",
       " 'additionsthursday',\n",
       " 'additionthursday',\n",
       " 'additionwe',\n",
       " 'additive',\n",
       " 'addpm',\n",
       " 'addre',\n",
       " 'address',\n",
       " 'addressadd',\n",
       " 'addressafter',\n",
       " 'addresscannot',\n",
       " 'addressdear',\n",
       " 'addressed',\n",
       " 'addressee',\n",
       " 'addressees',\n",
       " 'addresses',\n",
       " 'addressesaddresses',\n",
       " 'addressesincident',\n",
       " 'addressesinformation',\n",
       " 'addressesre',\n",
       " 'addressessent',\n",
       " 'addressesthursday',\n",
       " 'addressestuesday',\n",
       " 'addressesupdated',\n",
       " 'addresseswednesday',\n",
       " 'addressfebruary',\n",
       " 'addressfriday',\n",
       " 'addressgeneric',\n",
       " 'addressgoing',\n",
       " 'addresshello',\n",
       " 'addresshi',\n",
       " 'addressincorrect',\n",
       " 'addressing',\n",
       " 'addressinvalid',\n",
       " 'addressissue',\n",
       " 'addressjuly',\n",
       " 'addressmarch',\n",
       " 'addressnj',\n",
       " 'addressoctober',\n",
       " 'addresspm',\n",
       " 'addressre',\n",
       " 'addresssent',\n",
       " 'addressthursday',\n",
       " 'addresstuesday',\n",
       " 'addressupdate',\n",
       " 'addresswednesday',\n",
       " 'addroute',\n",
       " 'adds',\n",
       " 'addsent',\n",
       " 'addthursday',\n",
       " 'addtuesday',\n",
       " 'adduce',\n",
       " 'addwednesday',\n",
       " 'ademployee',\n",
       " 'adequate',\n",
       " 'adequately',\n",
       " 'adetailed',\n",
       " 'adfriday',\n",
       " 'adgreetings',\n",
       " 'adgroups',\n",
       " 'adhas',\n",
       " 'adhello',\n",
       " 'adheres',\n",
       " 'adhesive',\n",
       " 'adhi',\n",
       " 'adhim',\n",
       " 'adimportant',\n",
       " 'adintern',\n",
       " 'adinterns',\n",
       " 'adj',\n",
       " 'adjacency',\n",
       " 'adjuly',\n",
       " 'adjunct',\n",
       " 'adjust',\n",
       " 'adjustable',\n",
       " 'adjusted',\n",
       " 'adjustfebruary',\n",
       " 'adjusting',\n",
       " 'adjustment',\n",
       " 'adjustmentadjustment',\n",
       " 'adjustmentemployees',\n",
       " 'adjustmentfriday',\n",
       " 'adjustmenthigh',\n",
       " 'adjustmentjuly',\n",
       " 'adjustmentparent',\n",
       " 'adjustments',\n",
       " 'adjustmentsconfiguration',\n",
       " 'adjustmentsent',\n",
       " 'adjustmentsfriday',\n",
       " 'adjustmentsoctober',\n",
       " 'adjustmentsplease',\n",
       " 'adjustmentstuesday',\n",
       " 'adjustmenttuesday',\n",
       " 'adjustmentwednesday',\n",
       " 'adjustmentwrite',\n",
       " 'adjusttuesday',\n",
       " 'adleaver',\n",
       " 'admarch',\n",
       " 'admin',\n",
       " 'adminadd',\n",
       " 'adminfriday',\n",
       " 'adminhardware',\n",
       " 'adminhello',\n",
       " 'adminhi',\n",
       " 'adminissue',\n",
       " 'administer',\n",
       " 'administered',\n",
       " 'administers',\n",
       " 'administrate',\n",
       " 'administrated',\n",
       " 'administration',\n",
       " 'administrationadministration',\n",
       " 'administrationfriday',\n",
       " 'administrations',\n",
       " 'administrationsale',\n",
       " 'administrationwednesday',\n",
       " 'administrator',\n",
       " 'administratorbid',\n",
       " 'administratorcan',\n",
       " 'administratorerror',\n",
       " 'administratorfriday',\n",
       " 'administratorhave',\n",
       " 'administratorpm',\n",
       " 'administrators',\n",
       " 'administratorsaturday',\n",
       " 'administratorthere',\n",
       " 'adminjuly',\n",
       " 'adminpm',\n",
       " 'adminsaturday',\n",
       " 'adminsent',\n",
       " 'adminthursday',\n",
       " 'admintuesday',\n",
       " 'adminwednesday',\n",
       " 'admire',\n",
       " 'admit',\n",
       " 'admits',\n",
       " 'admitted',\n",
       " 'admittedly',\n",
       " 'admodify',\n",
       " 'adneeds',\n",
       " 'adnovember',\n",
       " 'adoctober',\n",
       " 'adopt',\n",
       " 'adopted',\n",
       " 'adopting',\n",
       " 'adoption',\n",
       " 'adperformed',\n",
       " 'adpermission',\n",
       " 'adpermissions',\n",
       " 'adplease',\n",
       " 'adpm',\n",
       " 'adprinter',\n",
       " 'adre',\n",
       " 'ads',\n",
       " 'adsent',\n",
       " 'adsonar',\n",
       " 'adthursday',\n",
       " 'adtuesday',\n",
       " 'adunable',\n",
       " 'adupdate',\n",
       " 'aduser',\n",
       " 'adv',\n",
       " 'advancement',\n",
       " 'advancements',\n",
       " 'advances',\n",
       " 'advancesdecember',\n",
       " 'advancesfriday',\n",
       " 'advantage',\n",
       " 'advantageous',\n",
       " 'advantages',\n",
       " 'adventure',\n",
       " 'adverted',\n",
       " 'advertise',\n",
       " 'advertised',\n",
       " 'advertisement',\n",
       " 'advertisements',\n",
       " 'advertiser',\n",
       " 'advertising',\n",
       " 'advertisingsent',\n",
       " 'adverts',\n",
       " 'advice',\n",
       " 'advicepm',\n",
       " 'advices',\n",
       " 'advisable',\n",
       " 'advise',\n",
       " 'advised',\n",
       " 'advisement',\n",
       " 'adviseold',\n",
       " 'adviser',\n",
       " 'adviseregarding',\n",
       " 'advisers',\n",
       " 'advises',\n",
       " 'advisesettings',\n",
       " 'advising',\n",
       " 'advisors',\n",
       " 'advisorstuesday',\n",
       " 'advisory',\n",
       " 'adwednesday',\n",
       " 'aerror',\n",
       " 'afar',\n",
       " 'afb',\n",
       " 'affect',\n",
       " 'affected',\n",
       " 'affectedafter',\n",
       " 'affectedsent',\n",
       " 'affecting',\n",
       " 'affective',\n",
       " 'affectivity',\n",
       " 'affects',\n",
       " 'afferent',\n",
       " 'affiliate',\n",
       " 'affiliated',\n",
       " 'affiliates',\n",
       " 'affirmation',\n",
       " 'affirmations',\n",
       " 'affirmative',\n",
       " 'afford',\n",
       " 'affords',\n",
       " 'afield',\n",
       " 'afore',\n",
       " 'aforementioned',\n",
       " 'afraid',\n",
       " 'africa',\n",
       " 'afriday',\n",
       " 'after',\n",
       " 'aftermanger',\n",
       " 'afternoon',\n",
       " 'afterrequired',\n",
       " 'aftersent',\n",
       " 'afterthursday',\n",
       " 'afterward',\n",
       " 'afterwards',\n",
       " 'again',\n",
       " 'againcreate',\n",
       " 'againdown',\n",
       " 'againfor',\n",
       " 'againhello',\n",
       " 'againhi',\n",
       " 'againlast',\n",
       " 'againre',\n",
       " 'againseems',\n",
       " 'againsent',\n",
       " 'against',\n",
       " 'againstfriday',\n",
       " 'againstsent',\n",
       " 'againsuspicious',\n",
       " 'againthursday',\n",
       " 'againworking',\n",
       " 'age',\n",
       " 'ageage',\n",
       " 'aged',\n",
       " 'ageing',\n",
       " 'ageingre',\n",
       " 'agencies',\n",
       " 'agenciesfriday',\n",
       " 'agenda',\n",
       " 'agendas',\n",
       " 'agent',\n",
       " 'agentinvestigation',\n",
       " 'agents',\n",
       " 'agenttuesday',\n",
       " 'ages',\n",
       " 'agessent',\n",
       " 'aggravates',\n",
       " 'aggregate',\n",
       " 'aggregated',\n",
       " 'aggregates',\n",
       " 'aggregating',\n",
       " 'aggregation',\n",
       " 'aggressive',\n",
       " 'agile',\n",
       " 'agilepm',\n",
       " 'agilethursday',\n",
       " 'agility',\n",
       " 'aging',\n",
       " 'agnostic',\n",
       " 'ago',\n",
       " 'agoreminder',\n",
       " 'agosubmitted',\n",
       " 'agree',\n",
       " 'agreed',\n",
       " 'agreement',\n",
       " 'agreements',\n",
       " 'agreementsent',\n",
       " 'agreementssent',\n",
       " 'agrees',\n",
       " 'agriculture',\n",
       " 'ah',\n",
       " 'aha',\n",
       " 'ahead',\n",
       " 'aid',\n",
       " 'aided',\n",
       " 'aids',\n",
       " 'ail',\n",
       " 'aim',\n",
       " 'aimed',\n",
       " 'aiming',\n",
       " 'aims',\n",
       " 'aircraft',\n",
       " 'airfare',\n",
       " 'airline',\n",
       " 'airlines',\n",
       " 'airplane',\n",
       " 'airports',\n",
       " 'airways',\n",
       " 'akinlicense',\n",
       " 'alans',\n",
       " 'alarm',\n",
       " 'alarmoriginal',\n",
       " 'alarms',\n",
       " 'alarmsent',\n",
       " 'alb',\n",
       " 'albania',\n",
       " 'albeit',\n",
       " 'ale',\n",
       " 'alert',\n",
       " 'alerted',\n",
       " 'alertgroups',\n",
       " 'alerting',\n",
       " 'alertoriginal',\n",
       " 'alertre',\n",
       " 'alerts',\n",
       " 'alertsent',\n",
       " 'alertsfriday',\n",
       " 'alertsoriginal',\n",
       " 'alertsplease',\n",
       " 'alertssent',\n",
       " 'ales',\n",
       " 'algae',\n",
       " 'algorithm',\n",
       " 'algorithms',\n",
       " 'alias',\n",
       " 'aliases',\n",
       " 'aliasestuesday',\n",
       " 'aliasfriday',\n",
       " 'aliasthursday',\n",
       " 'aliastuesday',\n",
       " 'align',\n",
       " 'aligned',\n",
       " 'aligning',\n",
       " 'alignment',\n",
       " 'aligns',\n",
       " 'alike',\n",
       " 'alit',\n",
       " 'alive',\n",
       " 'all',\n",
       " 'alladd',\n",
       " 'allcomplaint',\n",
       " 'allege',\n",
       " 'allergen',\n",
       " 'alleviate',\n",
       " 'alleviated',\n",
       " 'alleviating',\n",
       " 'alley',\n",
       " 'allfriday',\n",
       " 'allhello',\n",
       " 'allhelp',\n",
       " 'allhi',\n",
       " 'alljuly',\n",
       " 'allocable',\n",
       " 'allocate',\n",
       " 'allocated',\n",
       " 'allocatedplease',\n",
       " 'allocatedzone',\n",
       " 'allocatetuesday',\n",
       " 'allocatewednesday',\n",
       " 'allocating',\n",
       " 'allocation',\n",
       " 'allocationallocation',\n",
       " 'allocationbackpack',\n",
       " 'allocationbulk',\n",
       " 'allocationcable',\n",
       " 'allocationdecember',\n",
       " 'allocationdocument',\n",
       " 'allocationfriday',\n",
       " 'allocationhello',\n",
       " 'allocationhi',\n",
       " 'allocationintern',\n",
       " 'allocationjuly',\n",
       " 'allocationleaver',\n",
       " 'allocationlicense',\n",
       " 'allocationlog',\n",
       " 'allocationmarch',\n",
       " 'allocationmonitor',\n",
       " 'allocationmorning',\n",
       " 'allocationnovember',\n",
       " 'allocationoctober',\n",
       " 'allocationplease',\n",
       " 'allocationpm',\n",
       " 'allocationpro',\n",
       " 'allocationpurchase',\n",
       " 'allocationre',\n",
       " 'allocationrelease',\n",
       " 'allocationreport',\n",
       " 'allocationreturn',\n",
       " 'allocations',\n",
       " 'allocationsallocations',\n",
       " 'allocationsaturday',\n",
       " 'allocationsfebruary',\n",
       " 'allocationst',\n",
       " 'allocationstarter',\n",
       " 'allocationtask',\n",
       " 'allocationthursday',\n",
       " 'allocationtickets',\n",
       " 'allocationtransfer',\n",
       " 'allocationtuesday',\n",
       " 'allocationwednesday',\n",
       " 'allot',\n",
       " 'alloted',\n",
       " 'allotment',\n",
       " 'allotted',\n",
       " 'allow',\n",
       " 'allowance',\n",
       " 'allowances',\n",
       " 'allowancesent',\n",
       " 'allowancethursday',\n",
       " 'allowed',\n",
       " 'allowedre',\n",
       " 'allowedsent',\n",
       " 'allowing',\n",
       " 'allows',\n",
       " 'allrecently',\n",
       " 'allrelease',\n",
       " 'alltuesday',\n",
       " 'allurgent',\n",
       " 'allwednesday',\n",
       " 'ally',\n",
       " 'almost',\n",
       " 'alone',\n",
       " 'along',\n",
       " 'alongside',\n",
       " 'aloud',\n",
       " 'alp',\n",
       " 'alphabetical',\n",
       " 'alphabetically',\n",
       " 'alphabeticallywednesday',\n",
       " 'already',\n",
       " 'alright',\n",
       " 'also',\n",
       " 'alsore',\n",
       " 'alt',\n",
       " 'alter',\n",
       " 'alteration',\n",
       " 'alterations',\n",
       " 'altered',\n",
       " 'altering',\n",
       " 'alternate',\n",
       " 'alternately',\n",
       " 'alternative',\n",
       " 'alternativehello',\n",
       " 'alternatively',\n",
       " 'alternatives',\n",
       " 'although',\n",
       " 'alto',\n",
       " ...]"
      ]
     },
     "execution_count": 22,
     "metadata": {},
     "output_type": "execute_result"
    }
   ],
   "source": [
    "#What is there in the vocabulary\n",
    "cvect.get_feature_names()"
   ]
  },
  {
   "cell_type": "markdown",
   "metadata": {
    "colab_type": "text",
    "id": "65FHqNmDia4N"
   },
   "source": [
    "#### How do we reduce Vocabulary?"
   ]
  },
  {
   "cell_type": "markdown",
   "metadata": {
    "colab_type": "text",
    "id": "1n_1pTPMirZv"
   },
   "source": [
    "1. Stemming / Lemmatization\n",
    "2. Remove Stop words\n",
    "3. Remove words who appear very rarely (min_df)\n",
    "4. Remove words which appear a lot (max_df)"
   ]
  },
  {
   "cell_type": "code",
   "execution_count": 23,
   "metadata": {
    "colab": {},
    "colab_type": "code",
    "id": "9HcJcr59weGX"
   },
   "outputs": [],
   "source": [
    "#Stemming\n",
    "from nltk.stem import PorterStemmer"
   ]
  },
  {
   "cell_type": "markdown",
   "metadata": {
    "colab_type": "text",
    "id": "PQc9sUstjHpb"
   },
   "source": [
    "Build a new CountVectorizer with stemmer"
   ]
  },
  {
   "cell_type": "code",
   "execution_count": 24,
   "metadata": {
    "colab": {},
    "colab_type": "code",
    "id": "QvWCjweQkfnZ"
   },
   "outputs": [],
   "source": [
    "analyzer = CountVectorizer().build_analyzer()\n",
    "stemmer = PorterStemmer()"
   ]
  },
  {
   "cell_type": "code",
   "execution_count": 25,
   "metadata": {
    "colab": {},
    "colab_type": "code",
    "id": "nGjxIjb5jBrf"
   },
   "outputs": [],
   "source": [
    "#Function to Stem words\n",
    "def get_stemmed_text(doc):\n",
    "    return (stemmer.stem(w) for w in analyzer(doc))"
   ]
  },
  {
   "cell_type": "code",
   "execution_count": 26,
   "metadata": {
    "colab": {},
    "colab_type": "code",
    "id": "Ufp74bJ1jEY2"
   },
   "outputs": [],
   "source": [
    "stem_cvectorizer = CountVectorizer(analyzer=get_stemmed_text)"
   ]
  },
  {
   "cell_type": "code",
   "execution_count": 27,
   "metadata": {
    "colab": {},
    "colab_type": "code",
    "id": "uiwqbm7fjue2"
   },
   "outputs": [
    {
     "data": {
      "text/plain": [
       "19587"
      ]
     },
     "execution_count": 27,
     "metadata": {},
     "output_type": "execute_result"
    }
   ],
   "source": [
    "#This will take few seconfs\n",
    "stem_cvectorizer.fit(trainX)\n",
    "\n",
    "#Vocabulary\n",
    "len(stem_cvectorizer.get_feature_names())"
   ]
  },
  {
   "cell_type": "markdown",
   "metadata": {
    "colab_type": "text",
    "id": "JRX5n-rGk1mC"
   },
   "source": [
    "With stemmer and minimum frequency"
   ]
  },
  {
   "cell_type": "code",
   "execution_count": 28,
   "metadata": {
    "colab": {},
    "colab_type": "code",
    "id": "RqroMEUik0-O"
   },
   "outputs": [],
   "source": [
    "stem_min_cvectorizer = CountVectorizer(analyzer=get_stemmed_text, min_df=5)"
   ]
  },
  {
   "cell_type": "code",
   "execution_count": 29,
   "metadata": {
    "colab": {},
    "colab_type": "code",
    "id": "9-DE9ZNsj2eJ"
   },
   "outputs": [
    {
     "data": {
      "text/plain": [
       "4816"
      ]
     },
     "execution_count": 29,
     "metadata": {},
     "output_type": "execute_result"
    }
   ],
   "source": [
    "#This will take few seconfs\n",
    "stem_min_cvectorizer.fit(trainX)\n",
    "\n",
    "#Vocabulary\n",
    "len(stem_min_cvectorizer.get_feature_names())"
   ]
  },
  {
   "cell_type": "code",
   "execution_count": 30,
   "metadata": {
    "colab": {},
    "colab_type": "code",
    "id": "s7p5mSh8a2s1"
   },
   "outputs": [],
   "source": [
    "#stem_min_cvectorizer.vocabulary_"
   ]
  },
  {
   "cell_type": "markdown",
   "metadata": {
    "colab_type": "text",
    "id": "UK1zjGfHuP4U"
   },
   "source": [
    "Build Document-term Matrix (DTM)"
   ]
  },
  {
   "cell_type": "code",
   "execution_count": 31,
   "metadata": {
    "colab": {},
    "colab_type": "code",
    "id": "DrsvbF1XdefF"
   },
   "outputs": [],
   "source": [
    "#Convert Training text into Count Vectors\n",
    "trainX_ct = stem_min_cvectorizer.transform(trainX)"
   ]
  },
  {
   "cell_type": "code",
   "execution_count": 32,
   "metadata": {
    "colab": {},
    "colab_type": "code",
    "id": "7qDPMLuFduAx"
   },
   "outputs": [
    {
     "data": {
      "text/plain": [
       "(36411, 4816)"
      ]
     },
     "execution_count": 32,
     "metadata": {},
     "output_type": "execute_result"
    }
   ],
   "source": [
    "#Size of Document Term Matrix\n",
    "trainX_ct.shape"
   ]
  },
  {
   "cell_type": "code",
   "execution_count": 33,
   "metadata": {
    "colab": {},
    "colab_type": "code",
    "id": "FR2qtdrMeXkL"
   },
   "outputs": [
    {
     "data": {
      "text/plain": [
       "<1x4816 sparse matrix of type '<class 'numpy.int64'>'\n",
       "\twith 16 stored elements in Compressed Sparse Row format>"
      ]
     },
     "execution_count": 33,
     "metadata": {},
     "output_type": "execute_result"
    }
   ],
   "source": [
    "#Let's check the first record\n",
    "trainX_ct[0]"
   ]
  },
  {
   "cell_type": "code",
   "execution_count": 34,
   "metadata": {
    "colab": {},
    "colab_type": "code",
    "id": "YaTnzUIMeoMt"
   },
   "outputs": [
    {
     "name": "stdout",
     "output_type": "stream",
     "text": [
      "  (0, 579)\t1\n",
      "  (0, 732)\t1\n",
      "  (0, 1908)\t1\n",
      "  (0, 1909)\t1\n",
      "  (0, 2131)\t1\n",
      "  (0, 2173)\t3\n",
      "  (0, 2216)\t1\n",
      "  (0, 2267)\t1\n",
      "  (0, 2276)\t1\n",
      "  (0, 2968)\t2\n",
      "  (0, 3129)\t1\n",
      "  (0, 3459)\t1\n",
      "  (0, 3637)\t1\n",
      "  (0, 4234)\t1\n",
      "  (0, 4251)\t1\n",
      "  (0, 4715)\t1\n"
     ]
    }
   ],
   "source": [
    "#What's there in sparse matrix\n",
    "print(trainX_ct[0])"
   ]
  },
  {
   "cell_type": "markdown",
   "metadata": {
    "colab_type": "text",
    "id": "twoJfGyXwj80"
   },
   "source": [
    "From the [scikit-learn documentation](http://scikit-learn.org/stable/modules/feature_extraction.html#text-feature-extraction):\n",
    "\n",
    "> As most documents will typically use a very small subset of the words used in the corpus, the resulting matrix will have **many feature values that are zeros** (typically more than 99% of them).\n",
    "\n",
    "> For instance, a collection of 10,000 short text documents (such as emails) will use a vocabulary with a size in the order of 100,000 unique words in total while each document will use 100 to 1000 unique words individually.\n",
    "\n",
    "> In order to be able to **store such a matrix in memory** but also to **speed up operations**, implementations will typically use a **sparse representation** such as the implementations available in the `scipy.sparse` package."
   ]
  },
  {
   "cell_type": "markdown",
   "metadata": {
    "colab_type": "text",
    "id": "9zo2EwHYzAUr"
   },
   "source": [
    "Convert Test text also in numerical features"
   ]
  },
  {
   "cell_type": "code",
   "execution_count": 35,
   "metadata": {
    "colab": {},
    "colab_type": "code",
    "id": "HX8ht6-tzDuu"
   },
   "outputs": [],
   "source": [
    "testX_ct = stem_min_cvectorizer.transform(testX)"
   ]
  },
  {
   "cell_type": "code",
   "execution_count": 36,
   "metadata": {
    "colab": {},
    "colab_type": "code",
    "id": "zWjwfp9AzKL_"
   },
   "outputs": [
    {
     "data": {
      "text/plain": [
       "(12138, 4816)"
      ]
     },
     "execution_count": 36,
     "metadata": {},
     "output_type": "execute_result"
    }
   ],
   "source": [
    "testX_ct.shape"
   ]
  },
  {
   "cell_type": "markdown",
   "metadata": {
    "colab_type": "text",
    "id": "8_WO6pSdvE3o"
   },
   "source": [
    "### 4. Building a Ticket Classifier"
   ]
  },
  {
   "cell_type": "markdown",
   "metadata": {
    "colab_type": "text",
    "id": "HEYiNTZPx_UJ"
   },
   "source": [
    "Let's first try K-Nearest Neigbour algorithm"
   ]
  },
  {
   "cell_type": "code",
   "execution_count": 37,
   "metadata": {
    "colab": {},
    "colab_type": "code",
    "id": "f4ysA2I8wj7l"
   },
   "outputs": [],
   "source": [
    "from sklearn.neighbors import KNeighborsClassifier"
   ]
  },
  {
   "cell_type": "code",
   "execution_count": 38,
   "metadata": {
    "colab": {},
    "colab_type": "code",
    "id": "41v1PorCyHHj"
   },
   "outputs": [
    {
     "data": {
      "text/plain": [
       "KNeighborsClassifier(algorithm='auto', leaf_size=30, metric='minkowski',\n",
       "                     metric_params=None, n_jobs=None, n_neighbors=5, p=2,\n",
       "                     weights='uniform')"
      ]
     },
     "execution_count": 38,
     "metadata": {},
     "output_type": "execute_result"
    }
   ],
   "source": [
    "# instantiate the model (with the default parameters)\n",
    "knn = KNeighborsClassifier()\n",
    "\n",
    "# fit the model with data (occurs in-place)\n",
    "knn.fit(trainX_ct, trainY)"
   ]
  },
  {
   "cell_type": "markdown",
   "metadata": {
    "colab_type": "text",
    "id": "lzexfE7Wwj7p"
   },
   "source": [
    "Evaluation on Test Dataset"
   ]
  },
  {
   "cell_type": "code",
   "execution_count": 39,
   "metadata": {
    "colab": {},
    "colab_type": "code",
    "id": "uQOrAY7gy2Gp"
   },
   "outputs": [],
   "source": [
    "from sklearn import metrics"
   ]
  },
  {
   "cell_type": "code",
   "execution_count": 40,
   "metadata": {
    "colab": {},
    "colab_type": "code",
    "id": "6jJ1fLXAwj7q"
   },
   "outputs": [
    {
     "data": {
      "text/plain": [
       "0.9029494150601417"
      ]
     },
     "execution_count": 40,
     "metadata": {},
     "output_type": "execute_result"
    }
   ],
   "source": [
    "#Calculate accuracy on Test Dataset\n",
    "predicted_test_y = knn.predict(testX_ct)\n",
    "metrics.accuracy_score(testY, predicted_test_y)"
   ]
  },
  {
   "cell_type": "markdown",
   "metadata": {
    "colab_type": "text",
    "id": "wugpZLqWmbE8"
   },
   "source": [
    "Classification Report"
   ]
  },
  {
   "cell_type": "code",
   "execution_count": 41,
   "metadata": {
    "colab": {},
    "colab_type": "code",
    "id": "OJ15P2CRme_d"
   },
   "outputs": [],
   "source": [
    "import seaborn as sns\n",
    "from sklearn.metrics import confusion_matrix\n",
    "import matplotlib.pyplot as plt"
   ]
  },
  {
   "cell_type": "code",
   "execution_count": 42,
   "metadata": {
    "colab": {},
    "colab_type": "code",
    "id": "TkBsj-__mdSS"
   },
   "outputs": [],
   "source": [
    "def print_confusion_matrix(testY, predicted_test_y):\n",
    "    mat = confusion_matrix(testY, predicted_test_y)\n",
    "\n",
    "    plt.figure(figsize=(4, 4))\n",
    "    sns.set()\n",
    "    sns.heatmap(mat.T, square=True, annot=True, fmt='d', cbar=False,\n",
    "                xticklabels=np.unique(testY),\n",
    "                yticklabels=np.unique(testY))\n",
    "\n",
    "    plt.xlabel('true label')\n",
    "    plt.ylabel('predicted label')\n",
    "    plt.show()"
   ]
  },
  {
   "cell_type": "code",
   "execution_count": 43,
   "metadata": {
    "colab": {},
    "colab_type": "code",
    "id": "5Wpibe0OoYDb"
   },
   "outputs": [
    {
     "data": {
      "image/png": "[encoded data removed]",
      "text/plain": [
       "<Figure size 288x288 with 1 Axes>"
      ]
     },
     "metadata": {
      "needs_background": "light"
     },
     "output_type": "display_data"
    }
   ],
   "source": [
    "print_confusion_matrix(testY, predicted_test_y)"
   ]
  },
  {
   "cell_type": "markdown",
   "metadata": {
    "colab_type": "text",
    "id": "hyJmh5BuzZhW"
   },
   "source": [
    "#### We can build Classifier using other algorithms e.g SVM"
   ]
  },
  {
   "cell_type": "code",
   "execution_count": 44,
   "metadata": {
    "colab": {},
    "colab_type": "code",
    "id": "G0k6aBRTzY6i"
   },
   "outputs": [],
   "source": [
    "from sklearn.svm import SVC"
   ]
  },
  {
   "cell_type": "code",
   "execution_count": 45,
   "metadata": {
    "colab": {},
    "colab_type": "code",
    "id": "DxLV-8oZbHQs"
   },
   "outputs": [
    {
     "name": "stderr",
     "output_type": "stream",
     "text": [
      "C:\\Users\\samu0315\\AppData\\Local\\Continuum\\anaconda3\\lib\\site-packages\\sklearn\\svm\\base.py:193: FutureWarning: The default value of gamma will change from 'auto' to 'scale' in version 0.22 to account better for unscaled features. Set gamma explicitly to 'auto' or 'scale' to avoid this warning.\n",
      "  \"avoid this warning.\", FutureWarning)\n"
     ]
    },
    {
     "data": {
      "text/plain": [
       "SVC(C=1.0, cache_size=200, class_weight=None, coef0=0.0,\n",
       "    decision_function_shape='ovr', degree=3, gamma='auto_deprecated',\n",
       "    kernel='rbf', max_iter=-1, probability=False, random_state=None,\n",
       "    shrinking=True, tol=0.001, verbose=False)"
      ]
     },
     "execution_count": 45,
     "metadata": {},
     "output_type": "execute_result"
    }
   ],
   "source": [
    "#Train an SVM with default parameters\n",
    "svc = SVC()\n",
    "svc.fit(trainX_ct, trainY)"
   ]
  },
  {
   "cell_type": "code",
   "execution_count": 46,
   "metadata": {
    "colab": {},
    "colab_type": "code",
    "id": "1Oq4hVfHbWM0"
   },
   "outputs": [
    {
     "data": {
      "text/plain": [
       "0.9550173010380623"
      ]
     },
     "execution_count": 46,
     "metadata": {},
     "output_type": "execute_result"
    }
   ],
   "source": [
    "#Calculate accuracy on Test Dataset\n",
    "predicted_test_y_svc = svc.predict(testX_ct)\n",
    "metrics.accuracy_score(testY, predicted_test_y_svc)"
   ]
  },
  {
   "cell_type": "code",
   "execution_count": 47,
   "metadata": {
    "colab": {},
    "colab_type": "code",
    "id": "kwog61pjolAz"
   },
   "outputs": [
    {
     "data": {
      "image/png": "[encoded data removed]",
      "text/plain": [
       "<Figure size 288x288 with 1 Axes>"
      ]
     },
     "metadata": {},
     "output_type": "display_data"
    }
   ],
   "source": [
    "print_confusion_matrix(testY, predicted_test_y_svc)"
   ]
  },
  {
   "cell_type": "markdown",
   "metadata": {
    "colab_type": "text",
    "id": "Pn-BuPr7wj7u"
   },
   "source": [
    "### 5. Using TF-IDF Vectorizer"
   ]
  },
  {
   "cell_type": "code",
   "execution_count": 48,
   "metadata": {
    "colab": {},
    "colab_type": "code",
    "id": "_h06uXvYwj7u"
   },
   "outputs": [],
   "source": [
    "# import and instantiate TF-IDF Vectorizer (with the default parameters)\n",
    "from sklearn.feature_extraction.text import TfidfVectorizer\n",
    "tvect = TfidfVectorizer(analyzer=get_stemmed_text, min_df=5)"
   ]
  },
  {
   "cell_type": "code",
   "execution_count": 49,
   "metadata": {
    "colab": {},
    "colab_type": "code",
    "id": "8bAGvD0Ewj7y"
   },
   "outputs": [
    {
     "data": {
      "text/plain": [
       "4816"
      ]
     },
     "execution_count": 49,
     "metadata": {},
     "output_type": "execute_result"
    }
   ],
   "source": [
    "#Feed data to CountVectorizer\n",
    "tvect.fit(trainX)\n",
    "\n",
    "#Check the vocablury size\n",
    "len(tvect.vocabulary_)"
   ]
  },
  {
   "cell_type": "code",
   "execution_count": 50,
   "metadata": {
    "colab": {},
    "colab_type": "code",
    "id": "exeOGALacCb4"
   },
   "outputs": [
    {
     "data": {
      "text/plain": [
       "(36411, 4816)"
      ]
     },
     "execution_count": 50,
     "metadata": {},
     "output_type": "execute_result"
    }
   ],
   "source": [
    "#Convert Training into numerical values\n",
    "trainX_tfidf = tvect.transform(trainX)\n",
    "trainX_tfidf.shape"
   ]
  },
  {
   "cell_type": "code",
   "execution_count": 51,
   "metadata": {
    "colab": {},
    "colab_type": "code",
    "id": "0vy_edXec0vP"
   },
   "outputs": [],
   "source": [
    "#Convert Test SMSes also to tf-idf vectors\n",
    "testX_tfidf = tvect.transform(testX)"
   ]
  },
  {
   "cell_type": "code",
   "execution_count": 52,
   "metadata": {
    "colab": {},
    "colab_type": "code",
    "id": "wfZG9Z3FjPPT"
   },
   "outputs": [
    {
     "name": "stdout",
     "output_type": "stream",
     "text": [
      "  (0, 4715)\t0.18520474159794562\n",
      "  (0, 4251)\t0.17591029927632282\n",
      "  (0, 4234)\t0.290836529860184\n",
      "  (0, 3637)\t0.21631245349087377\n",
      "  (0, 3459)\t0.08492056185602116\n",
      "  (0, 3129)\t0.05912574186271535\n",
      "  (0, 2968)\t0.5070231126832099\n",
      "  (0, 2276)\t0.17573415392483757\n",
      "  (0, 2267)\t0.1782413775329816\n",
      "  (0, 2216)\t0.11577318919837434\n",
      "  (0, 2173)\t0.5601556115777517\n",
      "  (0, 2131)\t0.2654168637567183\n",
      "  (0, 1909)\t0.11873841806402083\n",
      "  (0, 1908)\t0.0934792700223345\n",
      "  (0, 732)\t0.18141509774181266\n",
      "  (0, 579)\t0.1399037402893451\n"
     ]
    }
   ],
   "source": [
    "print(trainX_tfidf[0])"
   ]
  },
  {
   "cell_type": "markdown",
   "metadata": {
    "colab_type": "text",
    "id": "-c77Chsvcg5d"
   },
   "source": [
    "Build an SVM"
   ]
  },
  {
   "cell_type": "code",
   "execution_count": 53,
   "metadata": {
    "colab": {},
    "colab_type": "code",
    "id": "eGxYIu00ca-s"
   },
   "outputs": [
    {
     "name": "stderr",
     "output_type": "stream",
     "text": [
      "C:\\Users\\samu0315\\AppData\\Local\\Continuum\\anaconda3\\lib\\site-packages\\sklearn\\svm\\base.py:193: FutureWarning: The default value of gamma will change from 'auto' to 'scale' in version 0.22 to account better for unscaled features. Set gamma explicitly to 'auto' or 'scale' to avoid this warning.\n",
      "  \"avoid this warning.\", FutureWarning)\n"
     ]
    },
    {
     "data": {
      "text/plain": [
       "SVC(C=1.0, cache_size=200, class_weight=None, coef0=0.0,\n",
       "    decision_function_shape='ovr', degree=3, gamma='auto_deprecated',\n",
       "    kernel='rbf', max_iter=-1, probability=False, random_state=None,\n",
       "    shrinking=True, tol=0.001, verbose=False)"
      ]
     },
     "execution_count": 53,
     "metadata": {},
     "output_type": "execute_result"
    }
   ],
   "source": [
    "svc_tf = SVC()\n",
    "svc_tf.fit(trainX_tfidf, trainY)"
   ]
  },
  {
   "cell_type": "code",
   "execution_count": 54,
   "metadata": {
    "colab": {},
    "colab_type": "code",
    "id": "AeXoA575cr3A"
   },
   "outputs": [
    {
     "data": {
      "text/plain": [
       "0.7100016477179107"
      ]
     },
     "execution_count": 54,
     "metadata": {},
     "output_type": "execute_result"
    }
   ],
   "source": [
    "#Calculate accuracy on Test Dataset\n",
    "predicted_test_y_svc_tf = svc_tf.predict(testX_tfidf)\n",
    "metrics.accuracy_score(testY, predicted_test_y_svc_tf)"
   ]
  },
  {
   "cell_type": "code",
   "execution_count": 55,
   "metadata": {
    "colab": {},
    "colab_type": "code",
    "id": "H42amXezqWZR"
   },
   "outputs": [
    {
     "data": {
      "image/png": "[encoded data removed]",
      "text/plain": [
       "<Figure size 288x288 with 1 Axes>"
      ]
     },
     "metadata": {},
     "output_type": "display_data"
    }
   ],
   "source": [
    "print_confusion_matrix(testY, predicted_test_y_svc_tf)"
   ]
  },
  {
   "cell_type": "code",
   "execution_count": 56,
   "metadata": {
    "colab": {},
    "colab_type": "code",
    "id": "_1hJ_pwbrUTQ"
   },
   "outputs": [
    {
     "name": "stderr",
     "output_type": "stream",
     "text": [
      "C:\\Users\\samu0315\\AppData\\Local\\Continuum\\anaconda3\\lib\\site-packages\\sklearn\\svm\\base.py:193: FutureWarning: The default value of gamma will change from 'auto' to 'scale' in version 0.22 to account better for unscaled features. Set gamma explicitly to 'auto' or 'scale' to avoid this warning.\n",
      "  \"avoid this warning.\", FutureWarning)\n"
     ]
    },
    {
     "data": {
      "text/plain": [
       "SVC(C=1.0, cache_size=200, class_weight='balanced', coef0=0.0,\n",
       "    decision_function_shape='ovr', degree=3, gamma='auto_deprecated',\n",
       "    kernel='rbf', max_iter=-1, probability=False, random_state=None,\n",
       "    shrinking=True, tol=0.001, verbose=False)"
      ]
     },
     "execution_count": 56,
     "metadata": {},
     "output_type": "execute_result"
    }
   ],
   "source": [
    "svc_tf_b = SVC(class_weight='balanced')\n",
    "svc_tf_b.fit(trainX_tfidf, trainY)"
   ]
  },
  {
   "cell_type": "code",
   "execution_count": 57,
   "metadata": {
    "colab": {},
    "colab_type": "code",
    "id": "E1XO_5qOr9rf"
   },
   "outputs": [
    {
     "data": {
      "text/plain": [
       "0.7132146976437634"
      ]
     },
     "execution_count": 57,
     "metadata": {},
     "output_type": "execute_result"
    }
   ],
   "source": [
    "#Calculate accuracy on Test Dataset\n",
    "predicted_test_y_svc_tf_b = svc_tf_b.predict(testX_tfidf)\n",
    "metrics.accuracy_score(testY, predicted_test_y_svc_tf_b)"
   ]
  },
  {
   "cell_type": "code",
   "execution_count": 58,
   "metadata": {
    "colab": {},
    "colab_type": "code",
    "id": "waxqsrMMsEr1"
   },
   "outputs": [
    {
     "data": {
      "image/png": "[encoded data removed]",
      "text/plain": [
       "<Figure size 288x288 with 1 Axes>"
      ]
     },
     "metadata": {},
     "output_type": "display_data"
    }
   ],
   "source": [
    "print_confusion_matrix(testY, predicted_test_y_svc_tf_b)"
   ]
  },
  {
   "cell_type": "markdown",
   "metadata": {
    "colab_type": "text",
    "id": "4o12llmedMEi"
   },
   "source": [
    "TF-IDF with ngram\n",
    "\n",
    "\n",
    "\n",
    "```\n",
    "tvect_ngram = TfidfVectorizer(ngram_range=(1,2)) \n",
    "#Tokens can be made of 1 word or 2 words\n",
    "```\n",
    "\n",
    "The movie was awesome\n",
    "\n",
    "Words as tokens = \"The\", \"movie\", \"was\", awesome\"\n",
    "\n",
    "ngrams (1,2) -> \n",
    "- \"The\", \n",
    "- \"movie\", \n",
    "- \"was\", \n",
    "- \"awesome\", \n",
    "- \"The movie\", \n",
    "- \"movie was\", \n",
    "- \"was awesome\""
   ]
  },
  {
   "cell_type": "markdown",
   "metadata": {
    "colab_type": "text",
    "id": "rE6sCTxjhPxR"
   },
   "source": [
    "### 7. Building a Deep Learning Model"
   ]
  },
  {
   "cell_type": "code",
   "execution_count": 60,
   "metadata": {
    "colab": {},
    "colab_type": "code",
    "id": "pXcQt_TchaNW"
   },
   "outputs": [],
   "source": [
    "import tensorflow as tf"
   ]
  },
  {
   "cell_type": "markdown",
   "metadata": {
    "colab_type": "text",
    "id": "MofkwztZheaj"
   },
   "source": [
    "We will use CountVectorizer features in this case. This can be replaced by TF-IDF features"
   ]
  },
  {
   "cell_type": "code",
   "execution_count": 61,
   "metadata": {
    "colab": {},
    "colab_type": "code",
    "id": "Qwt45bfbhcur"
   },
   "outputs": [],
   "source": [
    "#Start building a Keras Sequential Model\n",
    "tf.keras.backend.clear_session()\n",
    "model = tf.keras.Sequential()"
   ]
  },
  {
   "cell_type": "code",
   "execution_count": 62,
   "metadata": {
    "colab": {},
    "colab_type": "code",
    "id": "jmYjSF9Mh11J"
   },
   "outputs": [],
   "source": [
    "#Add hidden layers\n",
    "model.add(tf.keras.layers.Dense(100, activation='relu', input_shape=(len(tvect.vocabulary_),)))\n",
    "model.add(tf.keras.layers.Dropout(0.4))\n",
    "model.add(tf.keras.layers.Dense(50, activation='relu'))\n",
    "model.add(tf.keras.layers.Dropout(0.4))\n",
    "\n",
    "#Add Output layer\n",
    "model.add(tf.keras.layers.Dense(1, activation='sigmoid'))"
   ]
  },
  {
   "cell_type": "code",
   "execution_count": 63,
   "metadata": {
    "colab": {},
    "colab_type": "code",
    "id": "MUPy_5VIiUG9"
   },
   "outputs": [],
   "source": [
    "#Compile the model\n",
    "model.compile(optimizer='adam', loss='binary_crossentropy', metrics=['acc'])"
   ]
  },
  {
   "cell_type": "code",
   "execution_count": 64,
   "metadata": {
    "colab": {},
    "colab_type": "code",
    "id": "zH-LnFyXiXqc"
   },
   "outputs": [
    {
     "name": "stdout",
     "output_type": "stream",
     "text": [
      "WARNING:tensorflow:Keras is training/fitting/evaluating on array-like data. Keras may not be optimized for this format, so if your input data format is supported by TensorFlow I/O (https://github.com/tensorflow/io) we recommend using that to load a Dataset instead.\n",
      "Epoch 1/10\n"
     ]
    },
    {
     "ename": "InvalidArgumentError",
     "evalue": " TypeError: 'SparseTensor' object is not subscriptable\nTraceback (most recent call last):\n\n  File \"C:\\Users\\samu0315\\AppData\\Local\\Continuum\\anaconda3\\lib\\site-packages\\tensorflow\\python\\ops\\script_ops.py\", line 242, in __call__\n    return func(device, token, args)\n\n  File \"C:\\Users\\samu0315\\AppData\\Local\\Continuum\\anaconda3\\lib\\site-packages\\tensorflow\\python\\ops\\script_ops.py\", line 131, in __call__\n    ret = self._func(*args)\n\n  File \"C:\\Users\\samu0315\\AppData\\Local\\Continuum\\anaconda3\\lib\\site-packages\\tensorflow\\python\\autograph\\impl\\api.py\", line 302, in wrapper\n    return func(*args, **kwargs)\n\n  File \"C:\\Users\\samu0315\\AppData\\Local\\Continuum\\anaconda3\\lib\\site-packages\\tensorflow\\python\\keras\\engine\\data_adapter.py\", line 513, in py_method\n    return [slice_array(inp) for inp in flat_inputs]\n\n  File \"C:\\Users\\samu0315\\AppData\\Local\\Continuum\\anaconda3\\lib\\site-packages\\tensorflow\\python\\keras\\engine\\data_adapter.py\", line 513, in <listcomp>\n    return [slice_array(inp) for inp in flat_inputs]\n\n  File \"C:\\Users\\samu0315\\AppData\\Local\\Continuum\\anaconda3\\lib\\site-packages\\tensorflow\\python\\keras\\engine\\data_adapter.py\", line 512, in slice_array\n    contiguous=contiguous)\n\n  File \"C:\\Users\\samu0315\\AppData\\Local\\Continuum\\anaconda3\\lib\\site-packages\\tensorflow\\python\\keras\\engine\\training_utils.py\", line 391, in slice_arrays\n    entries = [[x[i:i + 1] for i in indices] for x in arrays]\n\n  File \"C:\\Users\\samu0315\\AppData\\Local\\Continuum\\anaconda3\\lib\\site-packages\\tensorflow\\python\\keras\\engine\\training_utils.py\", line 391, in <listcomp>\n    entries = [[x[i:i + 1] for i in indices] for x in arrays]\n\n  File \"C:\\Users\\samu0315\\AppData\\Local\\Continuum\\anaconda3\\lib\\site-packages\\tensorflow\\python\\keras\\engine\\training_utils.py\", line 391, in <listcomp>\n    entries = [[x[i:i + 1] for i in indices] for x in arrays]\n\nTypeError: 'SparseTensor' object is not subscriptable\n\n\n\t [[{{node EagerPyFunc}}]]\n\t [[IteratorGetNext]] [Op:__inference_train_function_859]\n\nFunction call stack:\ntrain_function\n",
     "output_type": "error",
     "traceback": [
      "\u001b[1;31m---------------------------------------------------------------------------\u001b[0m",
      "\u001b[1;31mInvalidArgumentError\u001b[0m                      Traceback (most recent call last)",
      "\u001b[1;32m<ipython-input-64-cf1983e00a13>\u001b[0m in \u001b[0;36m<module>\u001b[1;34m\u001b[0m\n\u001b[0;32m      1\u001b[0m model.fit(trainX_tfidf, trainY,\n\u001b[0;32m      2\u001b[0m            \u001b[0mvalidation_data\u001b[0m\u001b[1;33m=\u001b[0m\u001b[1;33m(\u001b[0m\u001b[0mtestX_tfidf\u001b[0m\u001b[1;33m,\u001b[0m \u001b[0mtestY\u001b[0m\u001b[1;33m)\u001b[0m\u001b[1;33m,\u001b[0m\u001b[1;33m\u001b[0m\u001b[1;33m\u001b[0m\u001b[0m\n\u001b[1;32m----> 3\u001b[1;33m            epochs=10, batch_size=32)\n\u001b[0m",
      "\u001b[1;32m~\\AppData\\Local\\Continuum\\anaconda3\\lib\\site-packages\\tensorflow\\python\\keras\\engine\\training.py\u001b[0m in \u001b[0;36m_method_wrapper\u001b[1;34m(self, *args, **kwargs)\u001b[0m\n\u001b[0;32m    106\u001b[0m   \u001b[1;32mdef\u001b[0m \u001b[0m_method_wrapper\u001b[0m\u001b[1;33m(\u001b[0m\u001b[0mself\u001b[0m\u001b[1;33m,\u001b[0m \u001b[1;33m*\u001b[0m\u001b[0margs\u001b[0m\u001b[1;33m,\u001b[0m \u001b[1;33m**\u001b[0m\u001b[0mkwargs\u001b[0m\u001b[1;33m)\u001b[0m\u001b[1;33m:\u001b[0m\u001b[1;33m\u001b[0m\u001b[1;33m\u001b[0m\u001b[0m\n\u001b[0;32m    107\u001b[0m     \u001b[1;32mif\u001b[0m \u001b[1;32mnot\u001b[0m \u001b[0mself\u001b[0m\u001b[1;33m.\u001b[0m\u001b[0m_in_multi_worker_mode\u001b[0m\u001b[1;33m(\u001b[0m\u001b[1;33m)\u001b[0m\u001b[1;33m:\u001b[0m  \u001b[1;31m# pylint: disable=protected-access\u001b[0m\u001b[1;33m\u001b[0m\u001b[1;33m\u001b[0m\u001b[0m\n\u001b[1;32m--> 108\u001b[1;33m       \u001b[1;32mreturn\u001b[0m \u001b[0mmethod\u001b[0m\u001b[1;33m(\u001b[0m\u001b[0mself\u001b[0m\u001b[1;33m,\u001b[0m \u001b[1;33m*\u001b[0m\u001b[0margs\u001b[0m\u001b[1;33m,\u001b[0m \u001b[1;33m**\u001b[0m\u001b[0mkwargs\u001b[0m\u001b[1;33m)\u001b[0m\u001b[1;33m\u001b[0m\u001b[1;33m\u001b[0m\u001b[0m\n\u001b[0m\u001b[0;32m    109\u001b[0m \u001b[1;33m\u001b[0m\u001b[0m\n\u001b[0;32m    110\u001b[0m     \u001b[1;31m# Running inside `run_distribute_coordinator` already.\u001b[0m\u001b[1;33m\u001b[0m\u001b[1;33m\u001b[0m\u001b[1;33m\u001b[0m\u001b[0m\n",
      "\u001b[1;32m~\\AppData\\Local\\Continuum\\anaconda3\\lib\\site-packages\\tensorflow\\python\\keras\\engine\\training.py\u001b[0m in \u001b[0;36mfit\u001b[1;34m(self, x, y, batch_size, epochs, verbose, callbacks, validation_split, validation_data, shuffle, class_weight, sample_weight, initial_epoch, steps_per_epoch, validation_steps, validation_batch_size, validation_freq, max_queue_size, workers, use_multiprocessing)\u001b[0m\n\u001b[0;32m   1096\u001b[0m                 batch_size=batch_size):\n\u001b[0;32m   1097\u001b[0m               \u001b[0mcallbacks\u001b[0m\u001b[1;33m.\u001b[0m\u001b[0mon_train_batch_begin\u001b[0m\u001b[1;33m(\u001b[0m\u001b[0mstep\u001b[0m\u001b[1;33m)\u001b[0m\u001b[1;33m\u001b[0m\u001b[1;33m\u001b[0m\u001b[0m\n\u001b[1;32m-> 1098\u001b[1;33m               \u001b[0mtmp_logs\u001b[0m \u001b[1;33m=\u001b[0m \u001b[0mtrain_function\u001b[0m\u001b[1;33m(\u001b[0m\u001b[0miterator\u001b[0m\u001b[1;33m)\u001b[0m\u001b[1;33m\u001b[0m\u001b[1;33m\u001b[0m\u001b[0m\n\u001b[0m\u001b[0;32m   1099\u001b[0m               \u001b[1;32mif\u001b[0m \u001b[0mdata_handler\u001b[0m\u001b[1;33m.\u001b[0m\u001b[0mshould_sync\u001b[0m\u001b[1;33m:\u001b[0m\u001b[1;33m\u001b[0m\u001b[1;33m\u001b[0m\u001b[0m\n\u001b[0;32m   1100\u001b[0m                 \u001b[0mcontext\u001b[0m\u001b[1;33m.\u001b[0m\u001b[0masync_wait\u001b[0m\u001b[1;33m(\u001b[0m\u001b[1;33m)\u001b[0m\u001b[1;33m\u001b[0m\u001b[1;33m\u001b[0m\u001b[0m\n",
      "\u001b[1;32m~\\AppData\\Local\\Continuum\\anaconda3\\lib\\site-packages\\tensorflow\\python\\eager\\def_function.py\u001b[0m in \u001b[0;36m__call__\u001b[1;34m(self, *args, **kwds)\u001b[0m\n\u001b[0;32m    778\u001b[0m       \u001b[1;32melse\u001b[0m\u001b[1;33m:\u001b[0m\u001b[1;33m\u001b[0m\u001b[1;33m\u001b[0m\u001b[0m\n\u001b[0;32m    779\u001b[0m         \u001b[0mcompiler\u001b[0m \u001b[1;33m=\u001b[0m \u001b[1;34m\"nonXla\"\u001b[0m\u001b[1;33m\u001b[0m\u001b[1;33m\u001b[0m\u001b[0m\n\u001b[1;32m--> 780\u001b[1;33m         \u001b[0mresult\u001b[0m \u001b[1;33m=\u001b[0m \u001b[0mself\u001b[0m\u001b[1;33m.\u001b[0m\u001b[0m_call\u001b[0m\u001b[1;33m(\u001b[0m\u001b[1;33m*\u001b[0m\u001b[0margs\u001b[0m\u001b[1;33m,\u001b[0m \u001b[1;33m**\u001b[0m\u001b[0mkwds\u001b[0m\u001b[1;33m)\u001b[0m\u001b[1;33m\u001b[0m\u001b[1;33m\u001b[0m\u001b[0m\n\u001b[0m\u001b[0;32m    781\u001b[0m \u001b[1;33m\u001b[0m\u001b[0m\n\u001b[0;32m    782\u001b[0m       \u001b[0mnew_tracing_count\u001b[0m \u001b[1;33m=\u001b[0m \u001b[0mself\u001b[0m\u001b[1;33m.\u001b[0m\u001b[0m_get_tracing_count\u001b[0m\u001b[1;33m(\u001b[0m\u001b[1;33m)\u001b[0m\u001b[1;33m\u001b[0m\u001b[1;33m\u001b[0m\u001b[0m\n",
      "\u001b[1;32m~\\AppData\\Local\\Continuum\\anaconda3\\lib\\site-packages\\tensorflow\\python\\eager\\def_function.py\u001b[0m in \u001b[0;36m_call\u001b[1;34m(self, *args, **kwds)\u001b[0m\n\u001b[0;32m    838\u001b[0m         \u001b[1;31m# Lifting succeeded, so variables are initialized and we can run the\u001b[0m\u001b[1;33m\u001b[0m\u001b[1;33m\u001b[0m\u001b[1;33m\u001b[0m\u001b[0m\n\u001b[0;32m    839\u001b[0m         \u001b[1;31m# stateless function.\u001b[0m\u001b[1;33m\u001b[0m\u001b[1;33m\u001b[0m\u001b[1;33m\u001b[0m\u001b[0m\n\u001b[1;32m--> 840\u001b[1;33m         \u001b[1;32mreturn\u001b[0m \u001b[0mself\u001b[0m\u001b[1;33m.\u001b[0m\u001b[0m_stateless_fn\u001b[0m\u001b[1;33m(\u001b[0m\u001b[1;33m*\u001b[0m\u001b[0margs\u001b[0m\u001b[1;33m,\u001b[0m \u001b[1;33m**\u001b[0m\u001b[0mkwds\u001b[0m\u001b[1;33m)\u001b[0m\u001b[1;33m\u001b[0m\u001b[1;33m\u001b[0m\u001b[0m\n\u001b[0m\u001b[0;32m    841\u001b[0m     \u001b[1;32melse\u001b[0m\u001b[1;33m:\u001b[0m\u001b[1;33m\u001b[0m\u001b[1;33m\u001b[0m\u001b[0m\n\u001b[0;32m    842\u001b[0m       \u001b[0mcanon_args\u001b[0m\u001b[1;33m,\u001b[0m \u001b[0mcanon_kwds\u001b[0m \u001b[1;33m=\u001b[0m\u001b[0;31m \u001b[0m\u001b[0;31m\\\u001b[0m\u001b[1;33m\u001b[0m\u001b[1;33m\u001b[0m\u001b[0m\n",
      "\u001b[1;32m~\\AppData\\Local\\Continuum\\anaconda3\\lib\\site-packages\\tensorflow\\python\\eager\\function.py\u001b[0m in \u001b[0;36m__call__\u001b[1;34m(self, *args, **kwargs)\u001b[0m\n\u001b[0;32m   2827\u001b[0m     \u001b[1;32mwith\u001b[0m \u001b[0mself\u001b[0m\u001b[1;33m.\u001b[0m\u001b[0m_lock\u001b[0m\u001b[1;33m:\u001b[0m\u001b[1;33m\u001b[0m\u001b[1;33m\u001b[0m\u001b[0m\n\u001b[0;32m   2828\u001b[0m       \u001b[0mgraph_function\u001b[0m\u001b[1;33m,\u001b[0m \u001b[0margs\u001b[0m\u001b[1;33m,\u001b[0m \u001b[0mkwargs\u001b[0m \u001b[1;33m=\u001b[0m \u001b[0mself\u001b[0m\u001b[1;33m.\u001b[0m\u001b[0m_maybe_define_function\u001b[0m\u001b[1;33m(\u001b[0m\u001b[0margs\u001b[0m\u001b[1;33m,\u001b[0m \u001b[0mkwargs\u001b[0m\u001b[1;33m)\u001b[0m\u001b[1;33m\u001b[0m\u001b[1;33m\u001b[0m\u001b[0m\n\u001b[1;32m-> 2829\u001b[1;33m     \u001b[1;32mreturn\u001b[0m \u001b[0mgraph_function\u001b[0m\u001b[1;33m.\u001b[0m\u001b[0m_filtered_call\u001b[0m\u001b[1;33m(\u001b[0m\u001b[0margs\u001b[0m\u001b[1;33m,\u001b[0m \u001b[0mkwargs\u001b[0m\u001b[1;33m)\u001b[0m  \u001b[1;31m# pylint: disable=protected-access\u001b[0m\u001b[1;33m\u001b[0m\u001b[1;33m\u001b[0m\u001b[0m\n\u001b[0m\u001b[0;32m   2830\u001b[0m \u001b[1;33m\u001b[0m\u001b[0m\n\u001b[0;32m   2831\u001b[0m   \u001b[1;33m@\u001b[0m\u001b[0mproperty\u001b[0m\u001b[1;33m\u001b[0m\u001b[1;33m\u001b[0m\u001b[0m\n",
      "\u001b[1;32m~\\AppData\\Local\\Continuum\\anaconda3\\lib\\site-packages\\tensorflow\\python\\eager\\function.py\u001b[0m in \u001b[0;36m_filtered_call\u001b[1;34m(self, args, kwargs, cancellation_manager)\u001b[0m\n\u001b[0;32m   1846\u001b[0m                            resource_variable_ops.BaseResourceVariable))],\n\u001b[0;32m   1847\u001b[0m         \u001b[0mcaptured_inputs\u001b[0m\u001b[1;33m=\u001b[0m\u001b[0mself\u001b[0m\u001b[1;33m.\u001b[0m\u001b[0mcaptured_inputs\u001b[0m\u001b[1;33m,\u001b[0m\u001b[1;33m\u001b[0m\u001b[1;33m\u001b[0m\u001b[0m\n\u001b[1;32m-> 1848\u001b[1;33m         cancellation_manager=cancellation_manager)\n\u001b[0m\u001b[0;32m   1849\u001b[0m \u001b[1;33m\u001b[0m\u001b[0m\n\u001b[0;32m   1850\u001b[0m   \u001b[1;32mdef\u001b[0m \u001b[0m_call_flat\u001b[0m\u001b[1;33m(\u001b[0m\u001b[0mself\u001b[0m\u001b[1;33m,\u001b[0m \u001b[0margs\u001b[0m\u001b[1;33m,\u001b[0m \u001b[0mcaptured_inputs\u001b[0m\u001b[1;33m,\u001b[0m \u001b[0mcancellation_manager\u001b[0m\u001b[1;33m=\u001b[0m\u001b[1;32mNone\u001b[0m\u001b[1;33m)\u001b[0m\u001b[1;33m:\u001b[0m\u001b[1;33m\u001b[0m\u001b[1;33m\u001b[0m\u001b[0m\n",
      "\u001b[1;32m~\\AppData\\Local\\Continuum\\anaconda3\\lib\\site-packages\\tensorflow\\python\\eager\\function.py\u001b[0m in \u001b[0;36m_call_flat\u001b[1;34m(self, args, captured_inputs, cancellation_manager)\u001b[0m\n\u001b[0;32m   1922\u001b[0m       \u001b[1;31m# No tape is watching; skip to running the function.\u001b[0m\u001b[1;33m\u001b[0m\u001b[1;33m\u001b[0m\u001b[1;33m\u001b[0m\u001b[0m\n\u001b[0;32m   1923\u001b[0m       return self._build_call_outputs(self._inference_function.call(\n\u001b[1;32m-> 1924\u001b[1;33m           ctx, args, cancellation_manager=cancellation_manager))\n\u001b[0m\u001b[0;32m   1925\u001b[0m     forward_backward = self._select_forward_and_backward_functions(\n\u001b[0;32m   1926\u001b[0m         \u001b[0margs\u001b[0m\u001b[1;33m,\u001b[0m\u001b[1;33m\u001b[0m\u001b[1;33m\u001b[0m\u001b[0m\n",
      "\u001b[1;32m~\\AppData\\Local\\Continuum\\anaconda3\\lib\\site-packages\\tensorflow\\python\\eager\\function.py\u001b[0m in \u001b[0;36mcall\u001b[1;34m(self, ctx, args, cancellation_manager)\u001b[0m\n\u001b[0;32m    548\u001b[0m               \u001b[0minputs\u001b[0m\u001b[1;33m=\u001b[0m\u001b[0margs\u001b[0m\u001b[1;33m,\u001b[0m\u001b[1;33m\u001b[0m\u001b[1;33m\u001b[0m\u001b[0m\n\u001b[0;32m    549\u001b[0m               \u001b[0mattrs\u001b[0m\u001b[1;33m=\u001b[0m\u001b[0mattrs\u001b[0m\u001b[1;33m,\u001b[0m\u001b[1;33m\u001b[0m\u001b[1;33m\u001b[0m\u001b[0m\n\u001b[1;32m--> 550\u001b[1;33m               ctx=ctx)\n\u001b[0m\u001b[0;32m    551\u001b[0m         \u001b[1;32melse\u001b[0m\u001b[1;33m:\u001b[0m\u001b[1;33m\u001b[0m\u001b[1;33m\u001b[0m\u001b[0m\n\u001b[0;32m    552\u001b[0m           outputs = execute.execute_with_cancellation(\n",
      "\u001b[1;32m~\\AppData\\Local\\Continuum\\anaconda3\\lib\\site-packages\\tensorflow\\python\\eager\\execute.py\u001b[0m in \u001b[0;36mquick_execute\u001b[1;34m(op_name, num_outputs, inputs, attrs, ctx, name)\u001b[0m\n\u001b[0;32m     58\u001b[0m     \u001b[0mctx\u001b[0m\u001b[1;33m.\u001b[0m\u001b[0mensure_initialized\u001b[0m\u001b[1;33m(\u001b[0m\u001b[1;33m)\u001b[0m\u001b[1;33m\u001b[0m\u001b[1;33m\u001b[0m\u001b[0m\n\u001b[0;32m     59\u001b[0m     tensors = pywrap_tfe.TFE_Py_Execute(ctx._handle, device_name, op_name,\n\u001b[1;32m---> 60\u001b[1;33m                                         inputs, attrs, num_outputs)\n\u001b[0m\u001b[0;32m     61\u001b[0m   \u001b[1;32mexcept\u001b[0m \u001b[0mcore\u001b[0m\u001b[1;33m.\u001b[0m\u001b[0m_NotOkStatusException\u001b[0m \u001b[1;32mas\u001b[0m \u001b[0me\u001b[0m\u001b[1;33m:\u001b[0m\u001b[1;33m\u001b[0m\u001b[1;33m\u001b[0m\u001b[0m\n\u001b[0;32m     62\u001b[0m     \u001b[1;32mif\u001b[0m \u001b[0mname\u001b[0m \u001b[1;32mis\u001b[0m \u001b[1;32mnot\u001b[0m \u001b[1;32mNone\u001b[0m\u001b[1;33m:\u001b[0m\u001b[1;33m\u001b[0m\u001b[1;33m\u001b[0m\u001b[0m\n",
      "\u001b[1;31mInvalidArgumentError\u001b[0m:  TypeError: 'SparseTensor' object is not subscriptable\nTraceback (most recent call last):\n\n  File \"C:\\Users\\samu0315\\AppData\\Local\\Continuum\\anaconda3\\lib\\site-packages\\tensorflow\\python\\ops\\script_ops.py\", line 242, in __call__\n    return func(device, token, args)\n\n  File \"C:\\Users\\samu0315\\AppData\\Local\\Continuum\\anaconda3\\lib\\site-packages\\tensorflow\\python\\ops\\script_ops.py\", line 131, in __call__\n    ret = self._func(*args)\n\n  File \"C:\\Users\\samu0315\\AppData\\Local\\Continuum\\anaconda3\\lib\\site-packages\\tensorflow\\python\\autograph\\impl\\api.py\", line 302, in wrapper\n    return func(*args, **kwargs)\n\n  File \"C:\\Users\\samu0315\\AppData\\Local\\Continuum\\anaconda3\\lib\\site-packages\\tensorflow\\python\\keras\\engine\\data_adapter.py\", line 513, in py_method\n    return [slice_array(inp) for inp in flat_inputs]\n\n  File \"C:\\Users\\samu0315\\AppData\\Local\\Continuum\\anaconda3\\lib\\site-packages\\tensorflow\\python\\keras\\engine\\data_adapter.py\", line 513, in <listcomp>\n    return [slice_array(inp) for inp in flat_inputs]\n\n  File \"C:\\Users\\samu0315\\AppData\\Local\\Continuum\\anaconda3\\lib\\site-packages\\tensorflow\\python\\keras\\engine\\data_adapter.py\", line 512, in slice_array\n    contiguous=contiguous)\n\n  File \"C:\\Users\\samu0315\\AppData\\Local\\Continuum\\anaconda3\\lib\\site-packages\\tensorflow\\python\\keras\\engine\\training_utils.py\", line 391, in slice_arrays\n    entries = [[x[i:i + 1] for i in indices] for x in arrays]\n\n  File \"C:\\Users\\samu0315\\AppData\\Local\\Continuum\\anaconda3\\lib\\site-packages\\tensorflow\\python\\keras\\engine\\training_utils.py\", line 391, in <listcomp>\n    entries = [[x[i:i + 1] for i in indices] for x in arrays]\n\n  File \"C:\\Users\\samu0315\\AppData\\Local\\Continuum\\anaconda3\\lib\\site-packages\\tensorflow\\python\\keras\\engine\\training_utils.py\", line 391, in <listcomp>\n    entries = [[x[i:i + 1] for i in indices] for x in arrays]\n\nTypeError: 'SparseTensor' object is not subscriptable\n\n\n\t [[{{node EagerPyFunc}}]]\n\t [[IteratorGetNext]] [Op:__inference_train_function_859]\n\nFunction call stack:\ntrain_function\n"
     ]
    }
   ],
   "source": [
    "model.fit(trainX_tfidf, trainY,\n",
    "           validation_data=(testX_tfidf, testY), \n",
    "           epochs=10, batch_size=32)"
   ]
  },
  {
   "cell_type": "code",
   "execution_count": 65,
   "metadata": {
    "colab": {},
    "colab_type": "code",
    "id": "f7d8_Ms5tkRr"
   },
   "outputs": [
    {
     "name": "stdout",
     "output_type": "stream",
     "text": [
      "Epoch 1/10\n",
      "1138/1138 [==============================] - 5s 5ms/step - loss: 0.0778 - acc: 0.9695 - val_loss: 0.0313 - val_acc: 0.9888\n",
      "Epoch 2/10\n",
      "1138/1138 [==============================] - 6s 5ms/step - loss: 0.0218 - acc: 0.9926 - val_loss: 0.0334 - val_acc: 0.9874\n",
      "Epoch 3/10\n",
      "1138/1138 [==============================] - 7s 6ms/step - loss: 0.0140 - acc: 0.9953 - val_loss: 0.0363 - val_acc: 0.9876\n",
      "Epoch 4/10\n",
      "1138/1138 [==============================] - 6s 5ms/step - loss: 0.0094 - acc: 0.9966 - val_loss: 0.0406 - val_acc: 0.9877\n",
      "Epoch 5/10\n",
      "1138/1138 [==============================] - 6s 5ms/step - loss: 0.0068 - acc: 0.9976 - val_loss: 0.0461 - val_acc: 0.9868\n",
      "Epoch 6/10\n",
      "1138/1138 [==============================] - 6s 5ms/step - loss: 0.0054 - acc: 0.9982 - val_loss: 0.0510 - val_acc: 0.9875\n",
      "Epoch 7/10\n",
      "1138/1138 [==============================] - 6s 5ms/step - loss: 0.0036 - acc: 0.9987 - val_loss: 0.0569 - val_acc: 0.9863\n",
      "Epoch 8/10\n",
      "1138/1138 [==============================] - 6s 5ms/step - loss: 0.0029 - acc: 0.9990 - val_loss: 0.0612 - val_acc: 0.9878\n",
      "Epoch 9/10\n",
      "1138/1138 [==============================] - 6s 5ms/step - loss: 0.0021 - acc: 0.9993 - val_loss: 0.0642 - val_acc: 0.9874\n",
      "Epoch 10/10\n",
      "1138/1138 [==============================] - 6s 5ms/step - loss: 0.0021 - acc: 0.9991 - val_loss: 0.0670 - val_acc: 0.9871\n"
     ]
    },
    {
     "data": {
      "text/plain": [
       "<tensorflow.python.keras.callbacks.History at 0x1e7542f4e08>"
      ]
     },
     "execution_count": 65,
     "metadata": {},
     "output_type": "execute_result"
    }
   ],
   "source": [
    "#Convert csr sparse matrix to dense\n",
    "model.fit(trainX_tfidf.todense(), trainY,\n",
    "           validation_data=(testX_tfidf.todense(), testY), \n",
    "           epochs=10, batch_size=32)"
   ]
  },
  {
   "cell_type": "code",
   "execution_count": 66,
   "metadata": {
    "colab": {},
    "colab_type": "code",
    "id": "p4RxUqlStqSA"
   },
   "outputs": [
    {
     "data": {
      "text/plain": [
       "0.9871478002965892"
      ]
     },
     "execution_count": 66,
     "metadata": {},
     "output_type": "execute_result"
    }
   ],
   "source": [
    "#Calculate accuracy on Test Dataset\n",
    "predicted_test_y_dense = model.predict(testX_tfidf.todense())\n",
    "\n",
    "#Convert predictions into binary\n",
    "predicted_test_y_dense_binary = predicted_test_y_dense >= 0.5\n",
    "\n",
    "#Calculate score\n",
    "metrics.accuracy_score(testY, predicted_test_y_dense_binary)"
   ]
  },
  {
   "cell_type": "code",
   "execution_count": 67,
   "metadata": {
    "colab": {},
    "colab_type": "code",
    "id": "nYjEv47Wu53h"
   },
   "outputs": [
    {
     "name": "stdout",
     "output_type": "stream",
     "text": [
      "380/380 [==============================] - 1s 2ms/step - loss: 0.0670 - acc: 0.9871\n"
     ]
    },
    {
     "data": {
      "text/plain": [
       "[0.06699135154485703, 0.9871478080749512]"
      ]
     },
     "execution_count": 67,
     "metadata": {},
     "output_type": "execute_result"
    }
   ],
   "source": [
    "model.evaluate(testX_tfidf.todense(), testY)"
   ]
  },
  {
   "cell_type": "code",
   "execution_count": 68,
   "metadata": {
    "colab": {},
    "colab_type": "code",
    "id": "i6tkGKPf__BV"
   },
   "outputs": [
    {
     "data": {
      "image/png": "[encoded data removed]",
      "text/plain": [
       "<Figure size 288x288 with 1 Axes>"
      ]
     },
     "metadata": {},
     "output_type": "display_data"
    }
   ],
   "source": [
    "print_confusion_matrix(testY, predicted_test_y_dense_binary)"
   ]
  },
  {
   "cell_type": "code",
   "execution_count": null,
   "metadata": {},
   "outputs": [],
   "source": []
  }
 ],
 "metadata": {
  "colab": {
   "collapsed_sections": [
    "rKqe-5Lpwj7E",
    "c2h-db6Zw00i",
    "pERZB-yYcMnQ",
    "8_WO6pSdvE3o",
    "Pn-BuPr7wj7u",
    "4o12llmedMEi",
    "rE6sCTxjhPxR",
    "YIHaWAagwj_H"
   ],
   "name": "6. Service Request Classification.ipynb",
   "private_outputs": true,
   "provenance": []
  },
  "kernelspec": {
   "display_name": "Python 3",
   "language": "python",
   "name": "python3"
  },
  "language_info": {
   "codemirror_mode": {
    "name": "ipython",
    "version": 3
   },
   "file_extension": ".py",
   "mimetype": "text/x-python",
   "name": "python",
   "nbconvert_exporter": "python",
   "pygments_lexer": "ipython3",
   "version": "3.7.4"
  }
 },
 "nbformat": 4,
 "nbformat_minor": 1
}
